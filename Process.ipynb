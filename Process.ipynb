{
  "nbformat": 4,
  "nbformat_minor": 0,
  "metadata": {
    "kernelspec": {
      "display_name": "Python 3",
      "language": "python",
      "name": "python3"
    },
    "language_info": {
      "codemirror_mode": {
        "name": "ipython",
        "version": 3
      },
      "file_extension": ".py",
      "mimetype": "text/x-python",
      "name": "python",
      "nbconvert_exporter": "python",
      "pygments_lexer": "ipython3",
      "version": "3.7.0"
    },
    "colab": {
      "name": "NLP_Project_new.ipynb",
      "provenance": [],
      "collapsed_sections": [
        "XTG6DAOZ5-0z",
        "7FFrbUAq5-1A",
        "J3lKL-ck5-1G",
        "YKb_jipt5-2J",
        "nriNQGrG5-2f",
        "k6xfBX4n5-2t",
        "9lV5FN6s5-3M"
      ],
      "toc_visible": true
    }
  },
  "cells": [
    {
      "cell_type": "code",
      "metadata": {
        "id": "J3wqp7Uf5-zK",
        "colab_type": "code",
        "colab": {}
      },
      "source": [
        "import pandas as pd\n",
        "import nltk\n",
        "from nltk.stem import WordNetLemmatizer\n",
        "from nltk.corpus import wordnet\n",
        "from sklearn.model_selection import train_test_split\n",
        "import spacy \n",
        "from tqdm import tqdm\n",
        "import numpy as np\n",
        "import re\n",
        "\n",
        "from sklearn.linear_model import SGDClassifier\n",
        "\n",
        "from sklearn.metrics.classification import accuracy_score, log_loss\n",
        "from sklearn.calibration import CalibratedClassifierCV\n",
        "import matplotlib.pyplot as plt\n",
        "from sklearn.metrics import confusion_matrix\n",
        "import seaborn as sns"
      ],
      "execution_count": 0,
      "outputs": []
    },
    {
      "cell_type": "code",
      "metadata": {
        "id": "csLJlCSS5-zT",
        "colab_type": "code",
        "colab": {}
      },
      "source": [
        "import warnings\n",
        "warnings.filterwarnings(\"ignore\")"
      ],
      "execution_count": 0,
      "outputs": []
    },
    {
      "cell_type": "code",
      "metadata": {
        "id": "adP6zltk5-zW",
        "colab_type": "code",
        "outputId": "8891929f-cddf-4c71-bac2-1cb1a19c873f",
        "colab": {
          "base_uri": "https://localhost:8080/",
          "height": 204
        }
      },
      "source": [
        "df = pd.read_csv(\"train.csv\")\n",
        "df.head()\n",
        "\n"
      ],
      "execution_count": 24,
      "outputs": [
        {
          "output_type": "execute_result",
          "data": {
            "text/html": [
              "<div>\n",
              "<style scoped>\n",
              "    .dataframe tbody tr th:only-of-type {\n",
              "        vertical-align: middle;\n",
              "    }\n",
              "\n",
              "    .dataframe tbody tr th {\n",
              "        vertical-align: top;\n",
              "    }\n",
              "\n",
              "    .dataframe thead th {\n",
              "        text-align: right;\n",
              "    }\n",
              "</style>\n",
              "<table border=\"1\" class=\"dataframe\">\n",
              "  <thead>\n",
              "    <tr style=\"text-align: right;\">\n",
              "      <th></th>\n",
              "      <th>id</th>\n",
              "      <th>comment_text</th>\n",
              "      <th>toxic</th>\n",
              "      <th>severe_toxic</th>\n",
              "      <th>obscene</th>\n",
              "      <th>threat</th>\n",
              "      <th>insult</th>\n",
              "      <th>identity_hate</th>\n",
              "    </tr>\n",
              "  </thead>\n",
              "  <tbody>\n",
              "    <tr>\n",
              "      <th>0</th>\n",
              "      <td>0000997932d777bf</td>\n",
              "      <td>Explanation \\nWhy the edits made under my user...</td>\n",
              "      <td>0</td>\n",
              "      <td>0</td>\n",
              "      <td>0</td>\n",
              "      <td>0</td>\n",
              "      <td>0</td>\n",
              "      <td>0</td>\n",
              "    </tr>\n",
              "    <tr>\n",
              "      <th>1</th>\n",
              "      <td>000103f0d9cfb60f</td>\n",
              "      <td>D'aww! He matches this background colour I'm s...</td>\n",
              "      <td>0</td>\n",
              "      <td>0</td>\n",
              "      <td>0</td>\n",
              "      <td>0</td>\n",
              "      <td>0</td>\n",
              "      <td>0</td>\n",
              "    </tr>\n",
              "    <tr>\n",
              "      <th>2</th>\n",
              "      <td>000113f07ec002fd</td>\n",
              "      <td>Hey man, I'm really not trying to edit war. It...</td>\n",
              "      <td>0</td>\n",
              "      <td>0</td>\n",
              "      <td>0</td>\n",
              "      <td>0</td>\n",
              "      <td>0</td>\n",
              "      <td>0</td>\n",
              "    </tr>\n",
              "    <tr>\n",
              "      <th>3</th>\n",
              "      <td>0001b41b1c6bb37e</td>\n",
              "      <td>\"\\nMore\\nI can't make any real suggestions on ...</td>\n",
              "      <td>0</td>\n",
              "      <td>0</td>\n",
              "      <td>0</td>\n",
              "      <td>0</td>\n",
              "      <td>0</td>\n",
              "      <td>0</td>\n",
              "    </tr>\n",
              "    <tr>\n",
              "      <th>4</th>\n",
              "      <td>0001d958c54c6e35</td>\n",
              "      <td>You, sir, are my hero. Any chance you remember...</td>\n",
              "      <td>0</td>\n",
              "      <td>0</td>\n",
              "      <td>0</td>\n",
              "      <td>0</td>\n",
              "      <td>0</td>\n",
              "      <td>0</td>\n",
              "    </tr>\n",
              "  </tbody>\n",
              "</table>\n",
              "</div>"
            ],
            "text/plain": [
              "                 id  ... identity_hate\n",
              "0  0000997932d777bf  ...             0\n",
              "1  000103f0d9cfb60f  ...             0\n",
              "2  000113f07ec002fd  ...             0\n",
              "3  0001b41b1c6bb37e  ...             0\n",
              "4  0001d958c54c6e35  ...             0\n",
              "\n",
              "[5 rows x 8 columns]"
            ]
          },
          "metadata": {
            "tags": []
          },
          "execution_count": 24
        }
      ]
    },
    {
      "cell_type": "code",
      "metadata": {
        "id": "0O6XepPr5-zd",
        "colab_type": "code",
        "colab": {}
      },
      "source": [
        "del df['id']"
      ],
      "execution_count": 0,
      "outputs": []
    },
    {
      "cell_type": "code",
      "metadata": {
        "id": "19sVLZlH5-zg",
        "colab_type": "code",
        "colab": {}
      },
      "source": [
        "def toxcity(df):\n",
        "    df['is_toxic'] = -1\n",
        "    for i in range(len(df)):\n",
        "        df['is_toxic'][i] = (1 if (df.toxic[i] or df.obscene[i] or df.severe_toxic[i] or df.threat[i] or df.insult[i] or df.identity_hate[i]) else 0)\n",
        "    df.drop(df.iloc[:, 1:7], inplace=True, axis=1)\n",
        "    return(df)\n"
      ],
      "execution_count": 0,
      "outputs": []
    },
    {
      "cell_type": "code",
      "metadata": {
        "id": "CWLSTaE85-zl",
        "colab_type": "code",
        "outputId": "c516d691-39eb-43a6-de1f-603e8cbecf37",
        "colab": {
          "base_uri": "https://localhost:8080/",
          "height": 34
        }
      },
      "source": [
        "print(df.obscene[2])"
      ],
      "execution_count": 0,
      "outputs": [
        {
          "output_type": "stream",
          "text": [
            "0\n"
          ],
          "name": "stdout"
        }
      ]
    },
    {
      "cell_type": "code",
      "metadata": {
        "id": "vWC1aSuN5-zq",
        "colab_type": "code",
        "colab": {}
      },
      "source": [
        "df['is_toxic'] = -1"
      ],
      "execution_count": 0,
      "outputs": []
    },
    {
      "cell_type": "code",
      "metadata": {
        "id": "FN5Ty8lL5-zt",
        "colab_type": "code",
        "colab": {}
      },
      "source": [
        "for i in range(len(df)):\n",
        "    if df.toxic[i] == 1 or df.obscene[i] == 1 or df.severe_toxic[i] == 1 or df.threat[i] == 1 or df.insult[i] == 1 or df.identity_hate[i] == 1:\n",
        "        df['is_toxic'][i] = 1\n",
        "    else:\n",
        "        df['is_toxic'][i] = 0\n",
        "        \n",
        "        "
      ],
      "execution_count": 0,
      "outputs": []
    },
    {
      "cell_type": "code",
      "metadata": {
        "id": "Qkrk4ePL5-zw",
        "colab_type": "code",
        "outputId": "f626647a-72b1-47bd-cdab-4fc02d5e63f0",
        "colab": {
          "base_uri": "https://localhost:8080/",
          "height": 204
        }
      },
      "source": [
        "df.head()"
      ],
      "execution_count": 0,
      "outputs": [
        {
          "output_type": "execute_result",
          "data": {
            "text/html": [
              "<div>\n",
              "<style scoped>\n",
              "    .dataframe tbody tr th:only-of-type {\n",
              "        vertical-align: middle;\n",
              "    }\n",
              "\n",
              "    .dataframe tbody tr th {\n",
              "        vertical-align: top;\n",
              "    }\n",
              "\n",
              "    .dataframe thead th {\n",
              "        text-align: right;\n",
              "    }\n",
              "</style>\n",
              "<table border=\"1\" class=\"dataframe\">\n",
              "  <thead>\n",
              "    <tr style=\"text-align: right;\">\n",
              "      <th></th>\n",
              "      <th>comment_text</th>\n",
              "      <th>toxic</th>\n",
              "      <th>severe_toxic</th>\n",
              "      <th>obscene</th>\n",
              "      <th>threat</th>\n",
              "      <th>insult</th>\n",
              "      <th>identity_hate</th>\n",
              "      <th>is_toxic</th>\n",
              "    </tr>\n",
              "  </thead>\n",
              "  <tbody>\n",
              "    <tr>\n",
              "      <th>0</th>\n",
              "      <td>Explanation \\nWhy the edits made under my user...</td>\n",
              "      <td>0.0</td>\n",
              "      <td>0.0</td>\n",
              "      <td>0.0</td>\n",
              "      <td>0.0</td>\n",
              "      <td>0.0</td>\n",
              "      <td>0.0</td>\n",
              "      <td>0</td>\n",
              "    </tr>\n",
              "    <tr>\n",
              "      <th>1</th>\n",
              "      <td>D'aww! He matches this background colour I'm s...</td>\n",
              "      <td>0.0</td>\n",
              "      <td>0.0</td>\n",
              "      <td>0.0</td>\n",
              "      <td>0.0</td>\n",
              "      <td>0.0</td>\n",
              "      <td>0.0</td>\n",
              "      <td>0</td>\n",
              "    </tr>\n",
              "    <tr>\n",
              "      <th>2</th>\n",
              "      <td>Hey man, I'm really not trying to edit war. It...</td>\n",
              "      <td>0.0</td>\n",
              "      <td>0.0</td>\n",
              "      <td>0.0</td>\n",
              "      <td>0.0</td>\n",
              "      <td>0.0</td>\n",
              "      <td>0.0</td>\n",
              "      <td>0</td>\n",
              "    </tr>\n",
              "    <tr>\n",
              "      <th>3</th>\n",
              "      <td>\"\\nMore\\nI can't make any real suggestions on ...</td>\n",
              "      <td>0.0</td>\n",
              "      <td>0.0</td>\n",
              "      <td>0.0</td>\n",
              "      <td>0.0</td>\n",
              "      <td>0.0</td>\n",
              "      <td>0.0</td>\n",
              "      <td>0</td>\n",
              "    </tr>\n",
              "    <tr>\n",
              "      <th>4</th>\n",
              "      <td>You, sir, are my hero. Any chance you remember...</td>\n",
              "      <td>0.0</td>\n",
              "      <td>0.0</td>\n",
              "      <td>0.0</td>\n",
              "      <td>0.0</td>\n",
              "      <td>0.0</td>\n",
              "      <td>0.0</td>\n",
              "      <td>0</td>\n",
              "    </tr>\n",
              "  </tbody>\n",
              "</table>\n",
              "</div>"
            ],
            "text/plain": [
              "                                        comment_text  ...  is_toxic\n",
              "0  Explanation \\nWhy the edits made under my user...  ...         0\n",
              "1  D'aww! He matches this background colour I'm s...  ...         0\n",
              "2  Hey man, I'm really not trying to edit war. It...  ...         0\n",
              "3  \"\\nMore\\nI can't make any real suggestions on ...  ...         0\n",
              "4  You, sir, are my hero. Any chance you remember...  ...         0\n",
              "\n",
              "[5 rows x 8 columns]"
            ]
          },
          "metadata": {
            "tags": []
          },
          "execution_count": 9
        }
      ]
    },
    {
      "cell_type": "code",
      "metadata": {
        "id": "BpWMpsEZ5-z1",
        "colab_type": "code",
        "colab": {}
      },
      "source": [
        "# ref: https://stackoverflow.com/questions/51994254/removing-url-from-a-column-in-pandas-dataframe\n",
        "\n",
        "def cleaning(df):\n",
        "    df.astype(str).apply(lambda x: x.str.encode('ascii', 'ignore').str.decode('ascii')) # remove emojies https://stackoverflow.com/questions/57514169/how-can-i-remove-emojis-from-a-dataframe\n",
        "    df['comment_text'] = df['comment_text'].apply(lambda x: re.split('http(s)?:\\/\\/.*', str(x))[0])  # removing urls from text\n",
        "    df['comment_text'] = df['comment_text'].str.replace(r'[\\t\\n]', ' ')\n",
        "    df['comment_text'] = df['comment_text'].str.replace(r'[^a-zA-Z0-9 \\']', '') # removed all characters except alphanumeric data and whitespace\n",
        "    df['comment_text'] = df['comment_text'].str.strip()\n",
        "    return(df)\n"
      ],
      "execution_count": 0,
      "outputs": []
    },
    {
      "cell_type": "code",
      "metadata": {
        "scrolled": true,
        "id": "2wRDYDnz5-z7",
        "colab_type": "code",
        "outputId": "42aa7dbd-1de3-41d4-d382-f75b9ce6c55c",
        "colab": {
          "base_uri": "https://localhost:8080/",
          "height": 204
        }
      },
      "source": [
        "train = cleaning(df)\n",
        "train.head()"
      ],
      "execution_count": 0,
      "outputs": [
        {
          "output_type": "execute_result",
          "data": {
            "text/html": [
              "<div>\n",
              "<style scoped>\n",
              "    .dataframe tbody tr th:only-of-type {\n",
              "        vertical-align: middle;\n",
              "    }\n",
              "\n",
              "    .dataframe tbody tr th {\n",
              "        vertical-align: top;\n",
              "    }\n",
              "\n",
              "    .dataframe thead th {\n",
              "        text-align: right;\n",
              "    }\n",
              "</style>\n",
              "<table border=\"1\" class=\"dataframe\">\n",
              "  <thead>\n",
              "    <tr style=\"text-align: right;\">\n",
              "      <th></th>\n",
              "      <th>comment_text</th>\n",
              "      <th>toxic</th>\n",
              "      <th>severe_toxic</th>\n",
              "      <th>obscene</th>\n",
              "      <th>threat</th>\n",
              "      <th>insult</th>\n",
              "      <th>identity_hate</th>\n",
              "      <th>is_toxic</th>\n",
              "    </tr>\n",
              "  </thead>\n",
              "  <tbody>\n",
              "    <tr>\n",
              "      <th>0</th>\n",
              "      <td>Explanation  Why the edits made under my usern...</td>\n",
              "      <td>0.0</td>\n",
              "      <td>0.0</td>\n",
              "      <td>0.0</td>\n",
              "      <td>0.0</td>\n",
              "      <td>0.0</td>\n",
              "      <td>0.0</td>\n",
              "      <td>0</td>\n",
              "    </tr>\n",
              "    <tr>\n",
              "      <th>1</th>\n",
              "      <td>D'aww He matches this background colour I'm se...</td>\n",
              "      <td>0.0</td>\n",
              "      <td>0.0</td>\n",
              "      <td>0.0</td>\n",
              "      <td>0.0</td>\n",
              "      <td>0.0</td>\n",
              "      <td>0.0</td>\n",
              "      <td>0</td>\n",
              "    </tr>\n",
              "    <tr>\n",
              "      <th>2</th>\n",
              "      <td>Hey man I'm really not trying to edit war It's...</td>\n",
              "      <td>0.0</td>\n",
              "      <td>0.0</td>\n",
              "      <td>0.0</td>\n",
              "      <td>0.0</td>\n",
              "      <td>0.0</td>\n",
              "      <td>0.0</td>\n",
              "      <td>0</td>\n",
              "    </tr>\n",
              "    <tr>\n",
              "      <th>3</th>\n",
              "      <td>More I can't make any real suggestions on impr...</td>\n",
              "      <td>0.0</td>\n",
              "      <td>0.0</td>\n",
              "      <td>0.0</td>\n",
              "      <td>0.0</td>\n",
              "      <td>0.0</td>\n",
              "      <td>0.0</td>\n",
              "      <td>0</td>\n",
              "    </tr>\n",
              "    <tr>\n",
              "      <th>4</th>\n",
              "      <td>You sir are my hero Any chance you remember wh...</td>\n",
              "      <td>0.0</td>\n",
              "      <td>0.0</td>\n",
              "      <td>0.0</td>\n",
              "      <td>0.0</td>\n",
              "      <td>0.0</td>\n",
              "      <td>0.0</td>\n",
              "      <td>0</td>\n",
              "    </tr>\n",
              "  </tbody>\n",
              "</table>\n",
              "</div>"
            ],
            "text/plain": [
              "                                        comment_text  ...  is_toxic\n",
              "0  Explanation  Why the edits made under my usern...  ...         0\n",
              "1  D'aww He matches this background colour I'm se...  ...         0\n",
              "2  Hey man I'm really not trying to edit war It's...  ...         0\n",
              "3  More I can't make any real suggestions on impr...  ...         0\n",
              "4  You sir are my hero Any chance you remember wh...  ...         0\n",
              "\n",
              "[5 rows x 8 columns]"
            ]
          },
          "metadata": {
            "tags": []
          },
          "execution_count": 12
        }
      ]
    },
    {
      "cell_type": "code",
      "metadata": {
        "scrolled": true,
        "id": "9A9K-Tuo5-z-",
        "colab_type": "code",
        "outputId": "9f284667-4546-408e-edb3-e4791cc031ca",
        "colab": {
          "base_uri": "https://localhost:8080/",
          "height": 187
        }
      },
      "source": [
        "print('Checking Null')\n",
        "print(df.isnull().any())"
      ],
      "execution_count": 0,
      "outputs": [
        {
          "output_type": "stream",
          "text": [
            "Checking Null\n",
            "comment_text     False\n",
            "toxic             True\n",
            "severe_toxic      True\n",
            "obscene           True\n",
            "threat            True\n",
            "insult            True\n",
            "identity_hate     True\n",
            "is_toxic         False\n",
            "dtype: bool\n"
          ],
          "name": "stdout"
        }
      ]
    },
    {
      "cell_type": "code",
      "metadata": {
        "id": "wWY3sxOH5-0B",
        "colab_type": "code",
        "colab": {}
      },
      "source": [
        "def toxcity(df):\n",
        "    df['is_toxic'] = -1\n",
        "    for i in range(len(df)):\n",
        "        df['is_toxic'][i] = (1 if (df.toxic[i] or df.obscene[i] or df.severe_toxic[i] or df.threat[i] or df.insult[i] or df.identity_hate[i]) else 0)\n",
        "    df.drop(df.iloc[:, 1:7], inplace=True, axis=1)\n",
        "    return(df)\n",
        "\n",
        "    "
      ],
      "execution_count": 0,
      "outputs": []
    },
    {
      "cell_type": "code",
      "metadata": {
        "id": "4u2jh0O35-0E",
        "colab_type": "code",
        "outputId": "0404a54c-d06a-4334-a8b2-3e63577d07b0",
        "colab": {
          "base_uri": "https://localhost:8080/",
          "height": 204
        }
      },
      "source": [
        "train1 = toxcity(train)\n",
        "train1.head()"
      ],
      "execution_count": 0,
      "outputs": [
        {
          "output_type": "execute_result",
          "data": {
            "text/html": [
              "<div>\n",
              "<style scoped>\n",
              "    .dataframe tbody tr th:only-of-type {\n",
              "        vertical-align: middle;\n",
              "    }\n",
              "\n",
              "    .dataframe tbody tr th {\n",
              "        vertical-align: top;\n",
              "    }\n",
              "\n",
              "    .dataframe thead th {\n",
              "        text-align: right;\n",
              "    }\n",
              "</style>\n",
              "<table border=\"1\" class=\"dataframe\">\n",
              "  <thead>\n",
              "    <tr style=\"text-align: right;\">\n",
              "      <th></th>\n",
              "      <th>comment_text</th>\n",
              "      <th>is_toxic</th>\n",
              "    </tr>\n",
              "  </thead>\n",
              "  <tbody>\n",
              "    <tr>\n",
              "      <th>0</th>\n",
              "      <td>Explanation  Why the edits made under my usern...</td>\n",
              "      <td>0</td>\n",
              "    </tr>\n",
              "    <tr>\n",
              "      <th>1</th>\n",
              "      <td>D'aww He matches this background colour I'm se...</td>\n",
              "      <td>0</td>\n",
              "    </tr>\n",
              "    <tr>\n",
              "      <th>2</th>\n",
              "      <td>Hey man I'm really not trying to edit war It's...</td>\n",
              "      <td>0</td>\n",
              "    </tr>\n",
              "    <tr>\n",
              "      <th>3</th>\n",
              "      <td>More I can't make any real suggestions on impr...</td>\n",
              "      <td>0</td>\n",
              "    </tr>\n",
              "    <tr>\n",
              "      <th>4</th>\n",
              "      <td>You sir are my hero Any chance you remember wh...</td>\n",
              "      <td>0</td>\n",
              "    </tr>\n",
              "  </tbody>\n",
              "</table>\n",
              "</div>"
            ],
            "text/plain": [
              "                                        comment_text  is_toxic\n",
              "0  Explanation  Why the edits made under my usern...         0\n",
              "1  D'aww He matches this background colour I'm se...         0\n",
              "2  Hey man I'm really not trying to edit war It's...         0\n",
              "3  More I can't make any real suggestions on impr...         0\n",
              "4  You sir are my hero Any chance you remember wh...         0"
            ]
          },
          "metadata": {
            "tags": []
          },
          "execution_count": 15
        }
      ]
    },
    {
      "cell_type": "code",
      "metadata": {
        "id": "YRWEKTUH5-0H",
        "colab_type": "code",
        "colab": {}
      },
      "source": [
        "train = pd.read_csv(\"new_train_data.csv\")"
      ],
      "execution_count": 0,
      "outputs": []
    },
    {
      "cell_type": "code",
      "metadata": {
        "id": "QQ9hPU8e5-0M",
        "colab_type": "code",
        "outputId": "b95c1e72-58bd-4390-ac57-b6b5c4f0f88b",
        "colab": {
          "base_uri": "https://localhost:8080/",
          "height": 204
        }
      },
      "source": [
        "train.head()"
      ],
      "execution_count": 0,
      "outputs": [
        {
          "output_type": "execute_result",
          "data": {
            "text/html": [
              "<div>\n",
              "<style scoped>\n",
              "    .dataframe tbody tr th:only-of-type {\n",
              "        vertical-align: middle;\n",
              "    }\n",
              "\n",
              "    .dataframe tbody tr th {\n",
              "        vertical-align: top;\n",
              "    }\n",
              "\n",
              "    .dataframe thead th {\n",
              "        text-align: right;\n",
              "    }\n",
              "</style>\n",
              "<table border=\"1\" class=\"dataframe\">\n",
              "  <thead>\n",
              "    <tr style=\"text-align: right;\">\n",
              "      <th></th>\n",
              "      <th>comment_text</th>\n",
              "      <th>is_toxic</th>\n",
              "    </tr>\n",
              "  </thead>\n",
              "  <tbody>\n",
              "    <tr>\n",
              "      <th>0</th>\n",
              "      <td>explanation  why the edits made under my usern...</td>\n",
              "      <td>0.0</td>\n",
              "    </tr>\n",
              "    <tr>\n",
              "      <th>1</th>\n",
              "      <td>d'aww he matches this background colour i am s...</td>\n",
              "      <td>0.0</td>\n",
              "    </tr>\n",
              "    <tr>\n",
              "      <th>2</th>\n",
              "      <td>hey man i am really not trying to edit war it'...</td>\n",
              "      <td>0.0</td>\n",
              "    </tr>\n",
              "    <tr>\n",
              "      <th>3</th>\n",
              "      <td>more i cannot make any real suggestions on imp...</td>\n",
              "      <td>0.0</td>\n",
              "    </tr>\n",
              "    <tr>\n",
              "      <th>4</th>\n",
              "      <td>you sir are my hero any chance you remember wh...</td>\n",
              "      <td>0.0</td>\n",
              "    </tr>\n",
              "  </tbody>\n",
              "</table>\n",
              "</div>"
            ],
            "text/plain": [
              "                                        comment_text  is_toxic\n",
              "0  explanation  why the edits made under my usern...       0.0\n",
              "1  d'aww he matches this background colour i am s...       0.0\n",
              "2  hey man i am really not trying to edit war it'...       0.0\n",
              "3  more i cannot make any real suggestions on imp...       0.0\n",
              "4  you sir are my hero any chance you remember wh...       0.0"
            ]
          },
          "metadata": {
            "tags": []
          },
          "execution_count": 19
        }
      ]
    },
    {
      "cell_type": "code",
      "metadata": {
        "id": "ZYUjJiYI5-0R",
        "colab_type": "code",
        "colab": {}
      },
      "source": [
        "def contractions(df):\n",
        "\n",
        "    df['comment_text'] = df['comment_text'].str.lower()\n",
        "\n",
        "    df['comment_text'] = df['comment_text'].replace( { \n",
        "    \"ain't\": \"am not\",\n",
        "    \"aren't\": \"are not\",\n",
        "    \"can't\": \"can not\",\n",
        "    \"can't've\": \"can not have\",\n",
        "    \"'cause\": \"because\",\n",
        "    \"could've\": \"could have\",\n",
        "    \"couldn't\": \"could not\",\n",
        "    \"couldn't've\": \"could not have\",\n",
        "    \"didn't\": \"did not\",\n",
        "    \"doesn't\": \"does not\",\n",
        "    \"don't\": \"do not\",\n",
        "    \"hadn't\": \"had not\",\n",
        "    \"hadn't've\": \"had not have\",\n",
        "    \"hasn't\": \"has not\",\n",
        "    \"haven't\": \"have not\",\n",
        "    \"he'd\": \"he had\",\n",
        "    \"he'd've\": \"he would have\",\n",
        "    \"he'll\": \"he will\",\n",
        "    \"he'll've\": \"he will have\",\n",
        "    \"he's\": \"he has\",\n",
        "    \"how'd\": \"how did\",\n",
        "    \"how'd'y\": \"how do you\",\n",
        "    \"how'll\": \"how will\",\n",
        "    \"how's\": \"how has\",\n",
        "    \"i'd\": \"I had\",\n",
        "    \"i'd've\": \"I would have\",\n",
        "    \"i'll\": \"I shall\",\n",
        "    \"i'll've\": \"I shall have\",\n",
        "    \"i'm\": \"I am\",\n",
        "    \"im\" : \"I am\",\n",
        "    \"i've\": \"I have\",\n",
        "    \"isn't\": \"is not\",\n",
        "    \"it'd\": \"it had\",\n",
        "    \"it'd've\": \"it would have\",\n",
        "    \"it'll\": \"it shall\",\n",
        "    \"it'll've\": \"it shall have\",\n",
        "    \"it's\": \"it has\",\n",
        "    \"let's\": \"let us\",\n",
        "    \"ma'am\": \"madam\",\n",
        "    \"mayn't\": \"may not\",\n",
        "    \"might've\": \"might have\",\n",
        "    \"mightn't\": \"might not\",\n",
        "    \"mightn't've\": \"might not have\",\n",
        "    \"must've\": \"must have\",\n",
        "    \"mustn't\": \"must not\",\n",
        "    \"mustn't've\": \"must not have\",\n",
        "    \"needn't\": \"need not\",\n",
        "    \"needn't've\": \"need not have\",\n",
        "    \"o'clock\": \"of the clock\",\n",
        "    \"oughtn't\": \"ought not\",\n",
        "    \"oughtn't've\": \"ought not have\",\n",
        "    \"shan't\": \"shall not\",\n",
        "    \"sha'n't\": \"shall not\",\n",
        "    \"shan't've\": \"shall not have\",\n",
        "    \"she'd\": \"she had\",\n",
        "    \"she'd've\": \"she would have\",\n",
        "    \"she'll\": \"she shall\",\n",
        "    \"she'll've\": \"she shall have\",\n",
        "    \"she's\": \"she has\",\n",
        "    \"should've\": \"should have\",\n",
        "    \"shouldn't\": \"should not\",\n",
        "    \"shouldn't've\": \"should not have\",\n",
        "    \"so've\": \"so have\",\n",
        "    \"so's\": \"so as\",\n",
        "    \"that'd\": \"that would\",\n",
        "    \"that'd've\": \"that would have\",\n",
        "    \"that's\": \"that has\",\n",
        "    \"there'd\": \"there had\",\n",
        "    \"there'd've\": \"there would have\",\n",
        "    \"there's\": \"there has\",\n",
        "    \"they'd\": \"they had\",\n",
        "    \"they'd've\": \"they would have\",\n",
        "    \"they'll\": \"they shall\",\n",
        "    \"they'll've\": \"they shall have\",\n",
        "    \"they're\": \"they are\",\n",
        "    \"they've\": \"they have\",\n",
        "    \"to've\": \"to have\",\n",
        "    \"wasn't\": \"was not\",\n",
        "    \"we'd\": \"we had\",\n",
        "    \"we'd've\": \"we would have\",\n",
        "    \"we'll\": \"we will\",\n",
        "    \"we'll've\": \"we will have\",\n",
        "    \"we're\": \"we are\",\n",
        "    \"we've\": \"we have\",\n",
        "    \"weren't\": \"were not\",\n",
        "    \"what'll\": \"what shall\",\n",
        "    \"what'll've\": \"what shall have\",\n",
        "    \"what're\": \"what are\",\n",
        "    \"what's\": \"what has\",\n",
        "    \"what've\": \"what have\",\n",
        "    \"when's\": \"when has\",\n",
        "    \"when've\": \"when have\",\n",
        "    \"where'd\": \"where did\",\n",
        "    \"where's\": \"where has\",\n",
        "    \"where've\": \"where have\",\n",
        "    \"who'll\": \"who shall\",\n",
        "    \"who'll've\": \"who shall have\",\n",
        "    \"who's\": \"who has\",\n",
        "    \"who've\": \"who have\",\n",
        "    \"why's\": \"why has\",\n",
        "    \"why've\": \"why have\",\n",
        "    \"will've\": \"will have\",\n",
        "    \"won't\": \"will not\",\n",
        "    \"won't've\": \"will not have\",\n",
        "    \"would've\": \"would have\",\n",
        "    \"wouldn't\": \"would not\",\n",
        "    \"wouldn't've\": \"would not have\",\n",
        "    \"y'all\": \"you all\",\n",
        "    \"y'all'd\": \"you all would\",\n",
        "    \"y'all'd've\": \"you all would have\",\n",
        "    \"y'all're\": \"you all are\",\n",
        "    \"y'all've\": \"you all have\",\n",
        "    \"you'd\": \"you had\",\n",
        "    \"you'd've\": \"you would have\",\n",
        "    \"you'll\": \"you shall\",\n",
        "    \"you'll've\": \"you shall have\",\n",
        "    \"you're\": \"you are\",\n",
        "    \"you've\": \"you have\"\n",
        "    })\n",
        "    return(df)\n",
        "\n"
      ],
      "execution_count": 0,
      "outputs": []
    },
    {
      "cell_type": "code",
      "metadata": {
        "id": "mHATN-op5-0X",
        "colab_type": "code",
        "outputId": "a4e56f26-8207-40ac-e8cb-397992a0ac21",
        "colab": {}
      },
      "source": [
        "train1 = contractions(train)\n",
        "train1.to_csv('new_train_data2.csv',index=False)\n",
        "train1.head()"
      ],
      "execution_count": 0,
      "outputs": [
        {
          "output_type": "execute_result",
          "data": {
            "text/html": [
              "<div>\n",
              "<style scoped>\n",
              "    .dataframe tbody tr th:only-of-type {\n",
              "        vertical-align: middle;\n",
              "    }\n",
              "\n",
              "    .dataframe tbody tr th {\n",
              "        vertical-align: top;\n",
              "    }\n",
              "\n",
              "    .dataframe thead th {\n",
              "        text-align: right;\n",
              "    }\n",
              "</style>\n",
              "<table border=\"1\" class=\"dataframe\">\n",
              "  <thead>\n",
              "    <tr style=\"text-align: right;\">\n",
              "      <th></th>\n",
              "      <th>comment_text</th>\n",
              "      <th>is_toxic</th>\n",
              "    </tr>\n",
              "  </thead>\n",
              "  <tbody>\n",
              "    <tr>\n",
              "      <th>0</th>\n",
              "      <td>explanation why the edits made under my userna...</td>\n",
              "      <td>0</td>\n",
              "    </tr>\n",
              "    <tr>\n",
              "      <th>1</th>\n",
              "      <td>daww he matches this background colour im seem...</td>\n",
              "      <td>0</td>\n",
              "    </tr>\n",
              "    <tr>\n",
              "      <th>2</th>\n",
              "      <td>hey man im really not trying to edit war its j...</td>\n",
              "      <td>0</td>\n",
              "    </tr>\n",
              "    <tr>\n",
              "      <th>3</th>\n",
              "      <td>more i cant make any real suggestions on impro...</td>\n",
              "      <td>0</td>\n",
              "    </tr>\n",
              "    <tr>\n",
              "      <th>4</th>\n",
              "      <td>you sir are my hero any chance you remember wh...</td>\n",
              "      <td>0</td>\n",
              "    </tr>\n",
              "  </tbody>\n",
              "</table>\n",
              "</div>"
            ],
            "text/plain": [
              "                                        comment_text  is_toxic\n",
              "0  explanation why the edits made under my userna...         0\n",
              "1  daww he matches this background colour im seem...         0\n",
              "2  hey man im really not trying to edit war its j...         0\n",
              "3  more i cant make any real suggestions on impro...         0\n",
              "4  you sir are my hero any chance you remember wh...         0"
            ]
          },
          "metadata": {
            "tags": []
          },
          "execution_count": 6
        }
      ]
    },
    {
      "cell_type": "code",
      "metadata": {
        "id": "RBrQTg7Z5-0a",
        "colab_type": "code",
        "colab": {}
      },
      "source": [
        "# https://gist.github.com/sebleier/554280\n",
        "# we are removing the words from the stop words list: 'no', 'nor', 'not'\n",
        "stopwords= ['i', 'me', 'my', 'myself', 'we', 'our', 'ours', 'ourselves', 'you', \"you're\", \"you've\",\\\n",
        "            \"you'll\", \"you'd\", 'your', 'yours', 'yourself', 'yourselves', 'he', 'him', 'his', 'himself', \\\n",
        "            'she', \"she's\", 'her', 'hers', 'herself', 'it', \"it's\", 'its', 'itself', 'they', 'them', 'their',\\\n",
        "            'theirs', 'themselves', 'what', 'which', 'who', 'whom', 'this', 'that', \"that'll\", 'these', 'those', \\\n",
        "            'am', 'is', 'are', 'was', 'were', 'be', 'been', 'being', 'have', 'has', 'had', 'having', 'do', 'does', \\\n",
        "            'did', 'doing', 'a', 'an', 'the', 'and', 'but', 'if', 'or', 'because', 'as', 'until', 'while', 'of', \\\n",
        "            'at', 'by', 'for', 'with', 'about', 'against', 'between', 'into', 'through', 'during', 'before', 'after',\\\n",
        "            'above', 'below', 'to', 'from', 'up', 'down', 'in', 'out', 'on', 'off', 'over', 'under', 'again', 'further',\\\n",
        "            'then', 'once', 'here', 'there', 'when', 'where', 'why', 'how', 'all', 'any', 'both', 'each', 'few', 'more',\\\n",
        "            'most', 'other', 'some', 'such', 'only', 'own', 'same', 'so', 'than', 'too', 'very', \\\n",
        "            's', 't', 'can', 'will', 'just', 'don', \"don't\", 'should', \"should've\", 'now', 'd', 'll', 'm', 'o', 're', \\\n",
        "            've', 'y', 'ain', 'aren', \"aren't\", 'couldn', \"couldn't\", 'didn', \"didn't\", 'doesn', \"doesn't\", 'hadn',\\\n",
        "            \"hadn't\", 'hasn', \"hasn't\", 'haven', \"haven't\", 'isn', \"isn't\", 'ma', 'mightn', \"mightn't\", 'mustn',\\\n",
        "            \"mustn't\", 'needn', \"needn't\", 'shan', \"shan't\", 'shouldn', \"shouldn't\", 'wasn', \"wasn't\", 'weren', \"weren't\", \\\n",
        "            'won', \"won't\", 'wouldn', \"wouldn't\"]"
      ],
      "execution_count": 0,
      "outputs": []
    },
    {
      "cell_type": "code",
      "metadata": {
        "id": "sYhfzf1j5-0d",
        "colab_type": "code",
        "colab": {}
      },
      "source": [
        "word_Lemmatized = WordNetLemmatizer()\n",
        "for index, comment in enumerate(train1['comment_text']):\n",
        "\n",
        "    temp_data = []\n",
        "    for word in str(comment).split():\n",
        "        if word not in stopwords and word.isalpha():\n",
        "            temp_word = word_Lemmatized.lemmatize(word)\n",
        "            temp_data.append(temp_word)\n",
        "    train1.loc[index,'comment_text'] = str(\" \".join(temp_data))"
      ],
      "execution_count": 0,
      "outputs": []
    },
    {
      "cell_type": "markdown",
      "metadata": {
        "id": "h37DQEqi5-0g",
        "colab_type": "text"
      },
      "source": [
        "## Start.."
      ]
    },
    {
      "cell_type": "code",
      "metadata": {
        "id": "IXx00WBy5-0h",
        "colab_type": "code",
        "outputId": "474ebe61-9d6c-4ed4-dfea-e88ce7251fe4",
        "colab": {
          "base_uri": "https://localhost:8080/",
          "height": 34
        }
      },
      "source": [
        "train = pd.read_csv(\"new_train_data3.csv\")\n",
        "train = train[train['comment_text'].notna()]\n",
        "train.isnull().values.any()"
      ],
      "execution_count": 25,
      "outputs": [
        {
          "output_type": "execute_result",
          "data": {
            "text/plain": [
              "False"
            ]
          },
          "metadata": {
            "tags": []
          },
          "execution_count": 25
        }
      ]
    },
    {
      "cell_type": "code",
      "metadata": {
        "id": "W20C39CZ5-0l",
        "colab_type": "code",
        "colab": {}
      },
      "source": [
        "y_train2 = pd.DataFrame()"
      ],
      "execution_count": 0,
      "outputs": []
    },
    {
      "cell_type": "code",
      "metadata": {
        "id": "YbIJBrfP5-0o",
        "colab_type": "code",
        "colab": {}
      },
      "source": [
        "train2 = pd.DataFrame(train['comment_text'], columns = ['comment_text']) \n",
        "y_train1 = train['is_toxic'] "
      ],
      "execution_count": 0,
      "outputs": []
    },
    {
      "cell_type": "markdown",
      "metadata": {
        "id": "TRS_8j2h5-0r",
        "colab_type": "text"
      },
      "source": [
        "## Splitting of Dataset"
      ]
    },
    {
      "cell_type": "code",
      "metadata": {
        "id": "JPXQ2dsm5-0s",
        "colab_type": "code",
        "colab": {}
      },
      "source": [
        "X_train, X_test, y_train, y_test = train_test_split(train2,y_train1, test_size=0.20, stratify = y_train1)\n",
        "X_train, X_cv, y_train, y_cv = train_test_split(X_train, y_train, test_size=0.20, stratify=y_train)"
      ],
      "execution_count": 0,
      "outputs": []
    },
    {
      "cell_type": "code",
      "metadata": {
        "id": "YfMmNANS5-0v",
        "colab_type": "code",
        "outputId": "9345bda9-584b-43fa-acfb-145543ee2776",
        "colab": {
          "base_uri": "https://localhost:8080/",
          "height": 204
        }
      },
      "source": [
        "print(X_train[:10])"
      ],
      "execution_count": 0,
      "outputs": [
        {
          "output_type": "stream",
          "text": [
            "                                             comment_text\n",
            "13219   truth though ask bongwarrior tell shy write ta...\n",
            "79469   glad help thought speedy deletion tag somethin...\n",
            "57383   rainbow free online new generation magazine en...\n",
            "569     asked admins not comment refrain however remov...\n",
            "124594  chickasaw people dont understand bigotry racis...\n",
            "1826    unclear statement use phrase caught fast ambig...\n",
            "135614  not delete comment cf discussion page respectf...\n",
            "137967                        p not bot use thing thunder\n",
            "49336   ahmadinejad referring conference interaction c...\n",
            "64605   right indeed there probably way actual analysi...\n"
          ],
          "name": "stdout"
        }
      ]
    },
    {
      "cell_type": "markdown",
      "metadata": {
        "id": "XTG6DAOZ5-0z",
        "colab_type": "text"
      },
      "source": [
        "## BAG OF WORDS\n"
      ]
    },
    {
      "cell_type": "code",
      "metadata": {
        "id": "8wgMxyDY5-00",
        "colab_type": "code",
        "outputId": "221c9433-0767-4f33-a4e7-c12262d91b97",
        "colab": {}
      },
      "source": [
        "# We are considering only the words which appeared in at least 10 documents(rows or projects).\n",
        "\n",
        "from sklearn.feature_extraction.text import CountVectorizer\n",
        "bow_vec_ct = CountVectorizer(ngram_range=(1,2),min_df=10,max_features=5000)\n",
        "bow_vec_ct.fit(X_train['comment_text'].values.astype('U')) \n",
        "\n",
        "\n",
        "# we use the fitted CountVectorizer to convert the text to vector\n",
        "def bow(a,b,c):\n",
        "    X_train_ct_bow = bow_vec_ct.transform(a['comment_text'].values)\n",
        "    X_cv_ct_bow = bow_vec_ct.transform(b['comment_text'].values)\n",
        "    X_test_ct_bow = bow_vec_ct.transform(c['comment_text'].values)\n",
        "    return   X_train_ct_bow,  X_cv_ct_bow, X_test_ct_bow\n",
        "\n",
        "\n",
        "X_train_ct_bow,X_cv_ct_bow,X_test_ct_bow = bow(X_train,X_cv,X_test)\n",
        "print(\"After vectorizations\")\n",
        "print(X_train_ct_bow.shape, y_train.shape)\n",
        "print(X_cv_ct_bow.shape, y_cv.shape)\n",
        "print(X_test_ct_bow.shape, y_test.shape)\n",
        "print(\"=\"*100)"
      ],
      "execution_count": 0,
      "outputs": [
        {
          "output_type": "stream",
          "text": [
            "After vectorizations\n",
            "(101948, 5000) (101948,)\n",
            "(25487, 5000) (25487,)\n",
            "(31859, 5000) (31859,)\n",
            "====================================================================================================\n"
          ],
          "name": "stdout"
        }
      ]
    },
    {
      "cell_type": "code",
      "metadata": {
        "id": "H3lEbEuW5-06",
        "colab_type": "code",
        "colab": {}
      },
      "source": [
        "from imblearn.over_sampling import SMOTE\n",
        "sm = SMOTE(random_state=12, ratio = 1.0)\n",
        "x_train2,y_train2 = sm.fit_sample(X_train_ct_bow, y_train)"
      ],
      "execution_count": 0,
      "outputs": []
    },
    {
      "cell_type": "code",
      "metadata": {
        "id": "v9jI644D5-09",
        "colab_type": "code",
        "colab": {}
      },
      "source": [
        "# This function plots the confusion matrices given y_i, y_i_hat.\n",
        "def plot_confusion_matrix(test_y, predict_y):\n",
        "    matrix = confusion_matrix(test_y, predict_y)\n",
        "    # C = 9,9 matrix, each cell (i,j) represents number of points of class i are predicted class j\n",
        "    # matrix = 2,2 matrix, each cell in (i,j) shows number of points \n",
        "    \n",
        "    pr =(((matrix.T)/(matrix.sum(axis=1))).T)\n",
        "    #divid each element of the confusion matrix with the sum of elements in that column\n",
        "    \n",
        "    # C = [[1, 2],\n",
        "    #     [3, 4]]\n",
        "    # C.T = [[1, 3],\n",
        "    #        [2, 4]]\n",
        "    # C.sum(axis = 1)  axis=0 corresonds to columns and axis=1 corresponds to rows in two diamensional array\n",
        "    # C.sum(axix =1) = [[3, 7]]\n",
        "    # ((C.T)/(C.sum(axis=1))) = [[1/3, 3/7]\n",
        "    #                           [2/3, 4/7]]\n",
        "\n",
        "    # ((C.T)/(C.sum(axis=1))).T = [[1/3, 2/3]\n",
        "    #                           [3/7, 4/7]]\n",
        "    # sum of row elements = 1\n",
        "    \n",
        "    re =(matrix/matrix.sum(axis=0))\n",
        "    #divid each element of the confusion matrix with the sum of elements in that row\n",
        "    # C = [[1, 2],\n",
        "    #     [3, 4]]\n",
        "    # C.sum(axis = 0)  axis=0 corresonds to columns and axis=1 corresponds to rows in two diamensional array\n",
        "    # C.sum(axix =0) = [[4, 6]]\n",
        "    # (C/C.sum(axis=0)) = [[1/4, 2/6],\n",
        "    #                      [3/4, 4/6]] \n",
        "    plt.figure(figsize=(20,4))\n",
        "    \n",
        "    labels = [0,1]\n",
        "    # representing A in heatmap format\n",
        "    cmap=sns.light_palette(\"blue\")\n",
        "    plt.subplot(1, 3, 1)\n",
        "    sns.heatmap(matrix, annot=True, cmap=cmap, fmt=\".3f\", xticklabels=labels, yticklabels=labels)\n",
        "    plt.xlabel('Predicted Class')\n",
        "    plt.ylabel('Original Class')\n",
        "    plt.title(\"Confusion matrix\")\n",
        "    \n",
        "    plt.subplot(1, 3, 2)\n",
        "    sns.heatmap(re, annot=True, cmap=cmap, fmt=\".3f\", xticklabels=labels, yticklabels=labels)\n",
        "    plt.xlabel('Predicted Class')\n",
        "    plt.ylabel('Original Class')\n",
        "    plt.title(\"Precision matrix\")\n",
        "    \n",
        "    plt.subplot(1, 3, 3)\n",
        "    # representing B in heatmap format\n",
        "    sns.heatmap(pr, annot=True, cmap=cmap, fmt=\".3f\", xticklabels=labels, yticklabels=labels)\n",
        "    plt.xlabel('Predicted Class')\n",
        "    plt.ylabel('Original Class')\n",
        "    plt.title(\"Recall matrix\")\n",
        "    \n",
        "    plt.show()"
      ],
      "execution_count": 0,
      "outputs": []
    },
    {
      "cell_type": "markdown",
      "metadata": {
        "id": "7FFrbUAq5-1A",
        "colab_type": "text"
      },
      "source": [
        "# BOW with Support Vector Machine"
      ]
    },
    {
      "cell_type": "code",
      "metadata": {
        "id": "L69ylJxS5-1B",
        "colab_type": "code",
        "outputId": "459dab25-17f3-4ad0-ce0d-e3bc95adf264",
        "colab": {
          "base_uri": "https://localhost:8080/",
          "height": 231
        }
      },
      "source": [
        "# hyperparam for SGD classifier.\n",
        "\n",
        "#  http://scikit-learn.org/stable/modules/generated/sklearn.linear_model.SGDClassifier.html\n",
        "# ------------------------------\n",
        "# default parameters\n",
        "# SGDClassifier(loss=’hinge’, penalty=’l2’, alpha=0.0001, l1_ratio=0.15, fit_intercept=True, max_iter=None, tol=None, \n",
        "# shuffle=True, verbose=0, epsilon=0.1, n_jobs=1, random_state=None, learning_rate=’optimal’, eta0=0.0, power_t=0.5, \n",
        "# class_weight=None, warm_start=False, average=False, n_iter=None)\n",
        "\n",
        "# some of methods\n",
        "# fit(X, y[, coef_init, intercept_init, …])\tFit linear model with Stochastic Gradient Descent.\n",
        "# predict(X)\tPredict class labels for samples in X.\n",
        "\n",
        "#-------------------------------\n",
        "# video link: \n",
        "#------------------------------\n",
        "\n",
        "def svm(a,b,c,d) :\n",
        "    alpha = [10 ** x for x in range(-5, 2)] \n",
        "    error_list=[]\n",
        "    for i in alpha:\n",
        "        clf = SGDClassifier(alpha=i, penalty='l2', loss='hinge', random_state=42)\n",
        "        clf.fit(a,b)\n",
        "        sig_clf = CalibratedClassifierCV(clf, method=\"sigmoid\")\n",
        "        sig_clf.fit(a,b)\n",
        "        predict_y = sig_clf.predict_proba(c)\n",
        "        error_list.append(log_loss(d, predict_y, labels=clf.classes_, eps=1e-15))\n",
        "        print('For values of alpha = ', i, \"The log loss is:\",log_loss(y_cv, predict_y, labels=clf.classes_, eps=1e-15))\n",
        "\n",
        "\n",
        "error_list1 = svm(x_train2, y_train2, X_cv_ct_bow, y_cv)\n",
        "\n",
        "best_alpha = np.argmin(error_list1)\n",
        "clf = SGDClassifier(alpha=alpha[best_alpha], penalty='l2', loss='hinge', random_state=42)\n",
        "clf.fit(x_train2, y_train2)\n",
        "sig_clf = CalibratedClassifierCV(clf, method=\"sigmoid\")\n",
        "sig_clf.fit(x_train2, y_train2)\n",
        "\n",
        "\n",
        "\n",
        "predict_y = sig_clf.predict_proba(X_test_ct_bow)\n",
        "print('For values of best alpha = ', alpha[best_alpha], \"The test log loss is:\",log_loss(y_test, predict_y, labels=clf.classes_, eps=1e-15))\n",
        "predicted_y =np.argmax(predict_y,axis=1)\n",
        "print(\"Total number of data points :\", len(predicted_y))\n",
        "plot_confusion_matrix(y_test, predicted_y)"
      ],
      "execution_count": 0,
      "outputs": [
        {
          "output_type": "error",
          "ename": "NameError",
          "evalue": "ignored",
          "traceback": [
            "\u001b[0;31m---------------------------------------------------------------------------\u001b[0m",
            "\u001b[0;31mNameError\u001b[0m                                 Traceback (most recent call last)",
            "\u001b[0;32m<ipython-input-35-8f234557a05b>\u001b[0m in \u001b[0;36m<module>\u001b[0;34m()\u001b[0m\n\u001b[1;32m     13\u001b[0m \u001b[0;34m\u001b[0m\u001b[0m\n\u001b[1;32m     14\u001b[0m \u001b[0;34m\u001b[0m\u001b[0m\n\u001b[0;32m---> 15\u001b[0;31m \u001b[0merror_list1\u001b[0m \u001b[0;34m=\u001b[0m \u001b[0msvm\u001b[0m\u001b[0;34m(\u001b[0m\u001b[0mX_train\u001b[0m\u001b[0;34m,\u001b[0m \u001b[0my_train\u001b[0m\u001b[0;34m,\u001b[0m \u001b[0mX_cv_ct_bow\u001b[0m\u001b[0;34m,\u001b[0m \u001b[0my_cv\u001b[0m\u001b[0;34m)\u001b[0m\u001b[0;34m\u001b[0m\u001b[0;34m\u001b[0m\u001b[0m\n\u001b[0m\u001b[1;32m     16\u001b[0m \u001b[0;34m\u001b[0m\u001b[0m\n\u001b[1;32m     17\u001b[0m \u001b[0mbest_alpha\u001b[0m \u001b[0;34m=\u001b[0m \u001b[0mnp\u001b[0m\u001b[0;34m.\u001b[0m\u001b[0margmin\u001b[0m\u001b[0;34m(\u001b[0m\u001b[0merror_list1\u001b[0m\u001b[0;34m)\u001b[0m\u001b[0;34m\u001b[0m\u001b[0;34m\u001b[0m\u001b[0m\n",
            "\u001b[0;31mNameError\u001b[0m: name 'X_cv_ct_bow' is not defined"
          ]
        }
      ]
    },
    {
      "cell_type": "markdown",
      "metadata": {
        "id": "J3lKL-ck5-1G",
        "colab_type": "text"
      },
      "source": [
        "# BOW with Random Forest"
      ]
    },
    {
      "cell_type": "code",
      "metadata": {
        "id": "lJXJj_qf5-1H",
        "colab_type": "code",
        "outputId": "0ce159dd-d574-431e-cacd-c9d057064063",
        "colab": {}
      },
      "source": [
        "from sklearn.metrics import f1_score\n",
        "from sklearn.ensemble import RandomForestClassifier\n",
        "from sklearn.metrics import f1_score\n",
        "from sklearn.model_selection import RandomizedSearchCV\n",
        "from scipy.stats import randint as sp_randint\n",
        "from scipy.stats import uniform\n",
        "\n",
        "parameter = {\"n_estimators\":sp_randint(102,127),\n",
        "              \"max_depth\": sp_randint(8,18),\n",
        "              \"min_samples_split\": sp_randint(108,192),\n",
        "              \"min_samples_leaf\": sp_randint(23,67)}\n",
        "\n",
        "clf = RandomForestClassifier(random_state=26,n_jobs=-1)\n",
        "\n",
        "random_s = RandomizedSearchCV(clf, param_distributions=parameter,\n",
        "                                   n_iter=5,cv= 3,scoring='f1',random_state=26,return_train_score=True)\n",
        "a = random_s.fit(x_train2, y_train2)\n",
        "print(random_s.best_estimator_)\n"
      ],
      "execution_count": 0,
      "outputs": [
        {
          "output_type": "stream",
          "text": [
            "RandomForestClassifier(bootstrap=True, class_weight=None, criterion='gini',\n",
            "                       max_depth=16, max_features='auto', max_leaf_nodes=None,\n",
            "                       min_impurity_decrease=0.0, min_impurity_split=None,\n",
            "                       min_samples_leaf=44, min_samples_split=138,\n",
            "                       min_weight_fraction_leaf=0.0, n_estimators=117,\n",
            "                       n_jobs=-1, oob_score=False, random_state=26, verbose=0,\n",
            "                       warm_start=False)\n"
          ],
          "name": "stdout"
        }
      ]
    },
    {
      "cell_type": "code",
      "metadata": {
        "id": "BE-XcWmB5-1K",
        "colab_type": "code",
        "colab": {}
      },
      "source": [
        "clf = RandomForestClassifier(bootstrap=True, class_weight=None, criterion='gini',\n",
        "                       max_depth=16, max_features='auto', max_leaf_nodes=None,\n",
        "                       min_impurity_decrease=0.0, min_impurity_split=None,\n",
        "                       min_samples_leaf=44, min_samples_split=138,\n",
        "                       min_weight_fraction_leaf=0.0, n_estimators=117,\n",
        "                       n_jobs=-1, oob_score=False, random_state=26, verbose=0,\n",
        "                       warm_start=False)"
      ],
      "execution_count": 0,
      "outputs": []
    },
    {
      "cell_type": "code",
      "metadata": {
        "id": "EV2MrnoD5-1P",
        "colab_type": "code",
        "outputId": "d9395aed-623d-4d3c-a6af-60c323d7ea0e",
        "colab": {}
      },
      "source": [
        "clf.fit(x_train2,y_train2)\n",
        "y_train_pred = clf.predict(x_train2)\n",
        "y_test_pred = clf.predict(X_test_ct_bow)\n",
        "\n",
        "plot_confusion_matrix(y_test,y_test_pred )"
      ],
      "execution_count": 0,
      "outputs": [
        {
          "output_type": "display_data",
          "data": {
            "image/png": "[encoded data removed]",
            "text/plain": [
              "<Figure size 1440x288 with 6 Axes>"
            ]
          },
          "metadata": {
            "tags": [],
            "needs_background": "light"
          }
        }
      ]
    },
    {
      "cell_type": "markdown",
      "metadata": {
        "id": "OnE_8S4s5-1R",
        "colab_type": "text"
      },
      "source": [
        "# Bow with Adaboost"
      ]
    },
    {
      "cell_type": "code",
      "metadata": {
        "id": "Lh0LbVPL5-1S",
        "colab_type": "code",
        "outputId": "7cc1e7d3-7db1-4915-e096-81fb8ed5d8f9",
        "colab": {}
      },
      "source": [
        "from sklearn.ensemble import AdaBoostRegressor\n",
        "from sklearn.model_selection import RandomizedSearchCV\n",
        "\n",
        "param = {\n",
        " 'n_estimators': [50, 60, 80, 100],\n",
        " 'learning_rate' : [0.01,0.05,0.1,0.3,1],\n",
        " 'loss' : ['linear', 'square', 'exponential']\n",
        " }\n",
        "\n",
        "pram_clf = RandomizedSearchCV(AdaBoostRegressor(),\n",
        " param_distributions = param,\n",
        " cv=3,\n",
        " n_iter = 10,\n",
        " n_jobs=-1)\n",
        "\n",
        "a = pram_clf.fit(x_train2,y_train2)\n",
        "print(pram_clf.best_estimator_)"
      ],
      "execution_count": 0,
      "outputs": [
        {
          "output_type": "stream",
          "text": [
            "AdaBoostRegressor(base_estimator=None, learning_rate=0.1, loss='square',\n",
            "                  n_estimators=80, random_state=None)\n"
          ],
          "name": "stdout"
        }
      ]
    },
    {
      "cell_type": "code",
      "metadata": {
        "id": "NfqBQnm85-1U",
        "colab_type": "code",
        "colab": {}
      },
      "source": [
        "clf = AdaBoostRegressor(base_estimator=None, learning_rate=0.1, loss='square',\n",
        "                  n_estimators=80, random_state=None)"
      ],
      "execution_count": 0,
      "outputs": []
    },
    {
      "cell_type": "code",
      "metadata": {
        "id": "R1OTnPXH5-1X",
        "colab_type": "code",
        "outputId": "a662ccaa-d930-48c1-dcbb-2765891d8f62",
        "colab": {}
      },
      "source": [
        "clf.fit(x_train2,y_train2)\n",
        "y_test_pred = clf.predict(X_test_ct_bow)\n",
        "predicted_y =np.array(y_test_pred>0.5,dtype=int)\n",
        "plot_confusion_matrix(y_test,predicted_y)\n"
      ],
      "execution_count": 0,
      "outputs": [
        {
          "output_type": "display_data",
          "data": {
            "image/png": "[encoded data removed]",
            "text/plain": [
              "<Figure size 1440x288 with 6 Axes>"
            ]
          },
          "metadata": {
            "tags": [],
            "needs_background": "light"
          }
        }
      ]
    },
    {
      "cell_type": "markdown",
      "metadata": {
        "id": "5nFCSCva5-1a",
        "colab_type": "text"
      },
      "source": [
        "## TFIDF vectorizer"
      ]
    },
    {
      "cell_type": "code",
      "metadata": {
        "id": "Tu4xcZnq5-1b",
        "colab_type": "code",
        "outputId": "1fab5b7a-6cb7-4560-fe36-b8a86ec04328",
        "colab": {
          "base_uri": "https://localhost:8080/",
          "height": 102
        }
      },
      "source": [
        "from sklearn.feature_extraction.text import TfidfVectorizer\n",
        "import pickle\n",
        "tfidf_vec = TfidfVectorizer(ngram_range=(1,2),min_df=10,max_features=5000)\n",
        "tfidf_vec.fit(X_train['comment_text'].values.astype('U')) \n",
        "\n",
        "# we use the fitted CountVectorizer to convert the text to vector\n",
        "def tfidf(a,b,c):\n",
        "    d = tfidf_vec.transform(X_train['comment_text'].values.astype('U'))\n",
        "    e = tfidf_vec.transform(X_cv['comment_text'].values.astype('U'))\n",
        "    f = tfidf_vec.transform(X_test['comment_text'].values.astype('U'))\n",
        "    return d,e,f\n",
        "\n",
        "X_train_ct_tfidf, X_cv_ct_tfidf, X_test_ct_tfidf = tfidf(X_train, X_cv, X_test)\n",
        "print(\"After vectorizations\")\n",
        "\n",
        "print(X_train_ct_tfidf.shape, y_train.shape)\n",
        "print(X_cv_ct_tfidf.shape, y_cv.shape)\n",
        "print(X_test_ct_tfidf.shape, y_test.shape)\n",
        "print(\"=\"*100)\n"
      ],
      "execution_count": 32,
      "outputs": [
        {
          "output_type": "stream",
          "text": [
            "After vectorizations\n",
            "(101948, 5000) (101948,)\n",
            "(25487, 5000) (25487,)\n",
            "(31859, 5000) (31859,)\n",
            "====================================================================================================\n"
          ],
          "name": "stdout"
        }
      ]
    },
    {
      "cell_type": "markdown",
      "metadata": {
        "id": "XCKBNxYS5-1e",
        "colab_type": "text"
      },
      "source": [
        "## new_tfidf"
      ]
    },
    {
      "cell_type": "code",
      "metadata": {
        "id": "2Geylf5m5-1f",
        "colab_type": "code",
        "outputId": "b9eac0f0-9d06-446b-e3e7-5ec1309eda9b",
        "colab": {
          "base_uri": "https://localhost:8080/",
          "height": 85
        }
      },
      "source": [
        "from sklearn.feature_extraction.text import TfidfVectorizer\n",
        "import pickle\n",
        "tfidf_vec = TfidfVectorizer(ngram_range=(1,2),min_df=10,max_features=5000)\n",
        "d=tfidf_vec.fit(X_train['comment_text'].values.astype('U')) \n",
        "tfidf_fit_data=pickle.dump(d,open(\"tfidf_fit_data.p\",\"wb\"))\n",
        "\n",
        "# we use the fitted CountVectorizer to convert the text to vector\n",
        "def tfidf(a,b,c):\n",
        "    d = tfidf_vec.transform(X_train['comment_text'].values.astype('U'))\n",
        "    e = tfidf_vec.transform(X_cv['comment_text'].values.astype('U'))\n",
        "  \n",
        "    f = tfidf_vec.transform(['You are cocksucker'])\n",
        "    return d,e,f\n",
        "\n",
        "X_train_ct_tfidf,X_cv_ct_tfidf,X_test_ct_tfidf = tfidf(X_train, X_cv,['good'])\n",
        "pickle.dump(X_train_ct_tfidf , open( \"X_train_ct_tfidf.p\", \"wb\" ) )\n",
        "pickle.dump(X_cv_ct_tfidf , open( \"X_cv_ct_tfidf.p\", \"wb\" ) )\n",
        "\n",
        "print(\"After vectorizations\")\n",
        "print(X_train_ct_tfidf.shape, y_train1.shape)\n",
        "\n",
        "print(X_test_ct_tfidf.shape)\n",
        "print(\"=\"*100)\n"
      ],
      "execution_count": 0,
      "outputs": [
        {
          "output_type": "stream",
          "text": [
            "After vectorizations\n",
            "(101948, 5000) (159294,)\n",
            "(1, 5000)\n",
            "====================================================================================================\n"
          ],
          "name": "stdout"
        }
      ]
    },
    {
      "cell_type": "markdown",
      "metadata": {
        "id": "_Wc0WRJT5-1i",
        "colab_type": "text"
      },
      "source": [
        "## balancing the data"
      ]
    },
    {
      "cell_type": "code",
      "metadata": {
        "id": "dTDgCwwE5-1j",
        "colab_type": "code",
        "colab": {}
      },
      "source": [
        "from imblearn.over_sampling import SMOTE\n",
        "import pickle\n",
        "x_train_ct = pickle.load( open( \"X_train_ct_tfidf.p\", \"rb\" ) )\n",
        "\n",
        "sm = SMOTE(random_state=12, ratio = 1.0)\n",
        "x_train2,y_train2 = sm.fit_sample(x_train_ct, y_train)\n",
        "pickle.dump(x_train2 , open( \"x_train2.p\", \"wb\" ) )\n",
        "pickle.dump(y_train2 , open( \"y_train2.p\", \"wb\" ) )\n"
      ],
      "execution_count": 0,
      "outputs": []
    },
    {
      "cell_type": "markdown",
      "metadata": {
        "id": "6HUdzwPm5-1u",
        "colab_type": "text"
      },
      "source": [
        "# Tfidf with Support Vector Machine"
      ]
    },
    {
      "cell_type": "code",
      "metadata": {
        "id": "NZ0ILwYT5-1w",
        "colab_type": "code",
        "outputId": "0f284d09-0d63-451e-a981-22912feb0e95",
        "colab": {
          "base_uri": "https://localhost:8080/",
          "height": 248
        }
      },
      "source": [
        "# hyperparam for SGD classifier.\n",
        "\n",
        "#  http://scikit-learn.org/stable/modules/generated/sklearn.linear_model.SGDClassifier.html\n",
        "# ------------------------------\n",
        "# default parameters\n",
        "# SGDClassifier(loss=’hinge’, penalty=’l2’, alpha=0.0001, l1_ratio=0.15, fit_intercept=True, max_iter=None, tol=None, \n",
        "# shuffle=True, verbose=0, epsilon=0.1, n_jobs=1, random_state=None, learning_rate=’optimal’, eta0=0.0, power_t=0.5, \n",
        "# class_weight=None, warm_start=False, average=False, n_iter=None)\n",
        "\n",
        "# some of methods\n",
        "# fit(X, y[, coef_init, intercept_init, …])\tFit linear model with Stochastic Gradient Descent.\n",
        "# predict(X)\tPredict class labels for samples in X.\n",
        "\n",
        "#-------------------------------\n",
        "# video link: \n",
        "#------------------------------\n",
        "\n",
        "alpha = [10 ** x for x in range(-5, 2)] \n",
        "def svm(a,b,c,d) :\n",
        "    alpha = [10 ** x for x in range(-5, 2)] \n",
        "    error_list=[]\n",
        "    for i in alpha:\n",
        "        clf = SGDClassifier(alpha=i, penalty='l2', loss='hinge', random_state=42)\n",
        "        clf.fit(a,b)\n",
        "        sig_clf = CalibratedClassifierCV(clf, method=\"sigmoid\")\n",
        "        sig_clf.fit(a,b)\n",
        "        predict_y = sig_clf.predict_proba(c)\n",
        "        error_list.append(log_loss(d, predict_y, labels=clf.classes_, eps=1e-15))\n",
        "        print('For values of alpha = ', i, \"The log loss is:\",log_loss(y_cv, predict_y, labels=clf.classes_, eps=1e-15))\n",
        "        return  error_list\n",
        "\n",
        "\n",
        "error_list1 = svm(x_train2, y_train2,X_cv_ct_tfidf,y_cv)\n",
        "\n",
        "\n",
        "best_alpha = np.argmin(error_list1)\n",
        "clf = SGDClassifier(alpha=alpha[best_alpha], penalty='l2', loss='hinge', random_state=42)\n",
        "clf.fit(x_train2, y_train2)\n",
        "sig_clf = CalibratedClassifierCV(clf, method=\"sigmoid\")\n",
        "sig_clf.fit(x_train2, y_train2)\n",
        "\n",
        "\n",
        "\n",
        "predict_y = sig_clf.predict_proba(X_test_ct_tfidf)\n",
        "print('For values of best alpha = ', alpha[best_alpha], \"The test log loss is:\",log_loss(y_test, predict_y, labels=clf.classes_, eps=1e-15))\n",
        "predicted_y =np.argmax(predict_y,axis=1)\n",
        "print(\"Total number of data points :\", len(predicted_y))\n",
        "plot_confusion_matrix(y_test, predicted_y)"
      ],
      "execution_count": 33,
      "outputs": [
        {
          "output_type": "stream",
          "text": [
            "For values of alpha =  1e-05 The log loss is: 0.9354768930946308\n",
            "For values of best alpha =  1e-05 The test log loss is: 0.9352396999401689\n",
            "Total number of data points : 31859\n"
          ],
          "name": "stdout"
        },
        {
          "output_type": "error",
          "ename": "NameError",
          "evalue": "ignored",
          "traceback": [
            "\u001b[0;31m---------------------------------------------------------------------------\u001b[0m",
            "\u001b[0;31mNameError\u001b[0m                                 Traceback (most recent call last)",
            "\u001b[0;32m<ipython-input-33-eafb9c7aa586>\u001b[0m in \u001b[0;36m<module>\u001b[0;34m()\u001b[0m\n\u001b[1;32m     30\u001b[0m \u001b[0mpredicted_y\u001b[0m \u001b[0;34m=\u001b[0m\u001b[0mnp\u001b[0m\u001b[0;34m.\u001b[0m\u001b[0margmax\u001b[0m\u001b[0;34m(\u001b[0m\u001b[0mpredict_y\u001b[0m\u001b[0;34m,\u001b[0m\u001b[0maxis\u001b[0m\u001b[0;34m=\u001b[0m\u001b[0;36m1\u001b[0m\u001b[0;34m)\u001b[0m\u001b[0;34m\u001b[0m\u001b[0;34m\u001b[0m\u001b[0m\n\u001b[1;32m     31\u001b[0m \u001b[0mprint\u001b[0m\u001b[0;34m(\u001b[0m\u001b[0;34m\"Total number of data points :\"\u001b[0m\u001b[0;34m,\u001b[0m \u001b[0mlen\u001b[0m\u001b[0;34m(\u001b[0m\u001b[0mpredicted_y\u001b[0m\u001b[0;34m)\u001b[0m\u001b[0;34m)\u001b[0m\u001b[0;34m\u001b[0m\u001b[0;34m\u001b[0m\u001b[0m\n\u001b[0;32m---> 32\u001b[0;31m \u001b[0mplot_confusion_matrix\u001b[0m\u001b[0;34m(\u001b[0m\u001b[0my_test\u001b[0m\u001b[0;34m,\u001b[0m \u001b[0mpredicted_y\u001b[0m\u001b[0;34m)\u001b[0m\u001b[0;34m\u001b[0m\u001b[0;34m\u001b[0m\u001b[0m\n\u001b[0m",
            "\u001b[0;31mNameError\u001b[0m: name 'plot_confusion_matrix' is not defined"
          ]
        }
      ]
    },
    {
      "cell_type": "markdown",
      "metadata": {
        "id": "ZMYKQiU15-18",
        "colab_type": "text"
      },
      "source": [
        "## new_svm with user tfidf"
      ]
    },
    {
      "cell_type": "code",
      "metadata": {
        "id": "T50HgjiP5-19",
        "colab_type": "code",
        "outputId": "e67eb423-4862-46d8-bcb6-f36487480e7f",
        "colab": {
          "base_uri": "https://localhost:8080/",
          "height": 323
        }
      },
      "source": [
        "#------------------------------\n",
        "\n",
        "\n",
        "x_training2 = pickle.load( open( \"x_train2.p\", \"rb\" ) )\n",
        "y_training2 = pickle.load( open( \"y_train2.p\", \"rb\" ) )\n",
        "alpha = [10 ** x for x in range(-5, 2)] \n",
        "def svm(a,b,c,d) :\n",
        "    alpha = [10 ** x for x in range(-5, 2)] \n",
        "    error_list=[]\n",
        "    for i in alpha:\n",
        "        clf = SGDClassifier(alpha=i, penalty='l2', loss='hinge', random_state=42)\n",
        "        clf.fit(a,b)\n",
        "        sig_clf = CalibratedClassifierCV(clf, method=\"sigmoid\")\n",
        "        sig_clf.fit(a,b)\n",
        "        predict_y = sig_clf.predict_proba(c)\n",
        "        error_list.append(log_loss(d, predict_y, labels=clf.classes_, eps=1e-15))\n",
        "        print('For values of alpha = ', i, \"The log loss is:\",log_loss(y_cv, predict_y, labels=clf.classes_, eps=1e-15))\n",
        "        return  error_list\n",
        "\n",
        "\n",
        "error_list1 = svm(x_training2, y_training2,X_cv_ct_tfidf,y_cv)\n",
        "\n",
        "\n",
        "\n",
        "\n",
        "\n",
        "best_alpha = np.argmin(error_list1)\n",
        "clf = SGDClassifier(alpha=alpha[best_alpha], penalty='l2', loss='hinge', random_state=42)\n",
        "clf.fit(x_train2, y_train2)\n",
        "sig_clf = CalibratedClassifierCV(clf, method=\"sigmoid\")\n",
        "sig_clf.fit(x_train2, y_train2)\n",
        "print(sig_clf)\n",
        "pickle.dump(sig_clf , open( \"sig_clf.p\", \"wb\" ) )"
      ],
      "execution_count": 0,
      "outputs": [
        {
          "output_type": "stream",
          "text": [
            "For values of alpha =  1e-05 The log loss is: 0.237633959816165\n",
            "CalibratedClassifierCV(base_estimator=SGDClassifier(alpha=1e-05, average=False,\n",
            "                                                    class_weight=None,\n",
            "                                                    early_stopping=False,\n",
            "                                                    epsilon=0.1, eta0=0.0,\n",
            "                                                    fit_intercept=True,\n",
            "                                                    l1_ratio=0.15,\n",
            "                                                    learning_rate='optimal',\n",
            "                                                    loss='hinge', max_iter=1000,\n",
            "                                                    n_iter_no_change=5,\n",
            "                                                    n_jobs=None, penalty='l2',\n",
            "                                                    power_t=0.5,\n",
            "                                                    random_state=42,\n",
            "                                                    shuffle=True, tol=0.001,\n",
            "                                                    validation_fraction=0.1,\n",
            "                                                    verbose=0,\n",
            "                                                    warm_start=False),\n",
            "                       cv=None, method='sigmoid')\n"
          ],
          "name": "stdout"
        }
      ]
    },
    {
      "cell_type": "code",
      "metadata": {
        "id": "taA2KQ3-5-2C",
        "colab_type": "code",
        "outputId": "e0b79079-6444-4f57-8811-8eb8bbbda96c",
        "colab": {
          "base_uri": "https://localhost:8080/",
          "height": 340
        }
      },
      "source": [
        "sigmoid_clf = pickle.load( open( \"sig_clf.p\", \"rb\" ) )\n",
        "print(sigmoid_clf)\n",
        "\n",
        "predict_y = sigmoid_clf.predict_proba(X_test_ct_tfidf)\n",
        "\n",
        "predicted_y =np.argmax(predict_y,axis=1)\n",
        "print(\"Total number of data points :\", len(predicted_y))\n",
        "print(predicted_y)"
      ],
      "execution_count": 0,
      "outputs": [
        {
          "output_type": "stream",
          "text": [
            "CalibratedClassifierCV(base_estimator=SGDClassifier(alpha=1e-05, average=False,\n",
            "                                                    class_weight=None,\n",
            "                                                    early_stopping=False,\n",
            "                                                    epsilon=0.1, eta0=0.0,\n",
            "                                                    fit_intercept=True,\n",
            "                                                    l1_ratio=0.15,\n",
            "                                                    learning_rate='optimal',\n",
            "                                                    loss='hinge', max_iter=1000,\n",
            "                                                    n_iter_no_change=5,\n",
            "                                                    n_jobs=None, penalty='l2',\n",
            "                                                    power_t=0.5,\n",
            "                                                    random_state=42,\n",
            "                                                    shuffle=True, tol=0.001,\n",
            "                                                    validation_fraction=0.1,\n",
            "                                                    verbose=0,\n",
            "                                                    warm_start=False),\n",
            "                       cv=None, method='sigmoid')\n",
            "Total number of data points : 1\n",
            "[1]\n"
          ],
          "name": "stdout"
        }
      ]
    },
    {
      "cell_type": "code",
      "metadata": {
        "id": "1hHJxTOeeq8g",
        "colab_type": "code",
        "outputId": "548253d5-1200-44c3-af44-d0f618af61e6",
        "colab": {
          "base_uri": "https://localhost:8080/",
          "height": 119
        }
      },
      "source": [
        "from nltk.tokenize import sent_tokenize, word_tokenize \n",
        "from nltk.corpus import stopwords\n",
        "import nltk\n",
        "import re\n",
        "from nltk.stem import PorterStemmer\n",
        "from sklearn.preprocessing import LabelEncoder\n",
        "from sklearn.feature_extraction.text import TfidfVectorizer, CountVectorizer\n",
        "import pickle\n",
        "import numpy as np\n",
        "\n",
        "\n",
        "nltk.download('stopwords')\n",
        "nltk.download('punkt')\n",
        "\n",
        "happy_emojis = set([\n",
        "    ':-)', ':)', ';)', ':o)', ':]', ':3', ':c)', ':>', '=]', '8)', '=)', ':}',\n",
        "    ':^)', ':-D', ':D', '8-D', '8D', 'x-D', 'xD', 'X-D', 'XD', '=-D', '=D',\n",
        "    '=-3', '=3', ':-))', \":'-)\", \":')\", ':*', ':^*', '>:P', ':-P', ':P', 'X-P',\n",
        "    'x-p', 'xp', 'XP', ':-p', ':p', '=p', ':-b', ':b', '>:)', '>;)', '>:-)',\n",
        "    '<3'\n",
        "])\n",
        "sad_emojis = set([\n",
        "    ':L', ':-/', '>:/', ':S', '>:[', ':@', ':-(', ':[', ':-||', '=L', ':<',\n",
        "    ':-[', ':-<', '=\\\\', '=/', '>:(', ':(', '>.<', \":'-(\", \":'(\", ':\\\\', ':-c',\n",
        "    ':c', ':{', '>:\\\\', ';('\n",
        "])\n",
        "emoticons = happy_emojis.union(sad_emojis)\n",
        "emojipattern = re.compile(\"[\"\n",
        "                      u\"\\U0001F600-\\U0001F64F\"\n",
        "                      u\"\\U0001F300-\\U0001F5FF\"\n",
        "                      u\"\\U0001F680-\\U0001F6FF\"\n",
        "                      u\"\\U0001F1E0-\\U0001F1FF\"\n",
        "                      u\"\\U00002702-\\U000027B0\"\n",
        "                      u\"\\U000024C2-\\U0001F251\"\n",
        "                      \"]+\", flags=re.UNICODE)\n",
        "\n",
        "def clean_typed_data(text):\n",
        "\n",
        "    text = re.sub(r'‚Ä¶', '',  text)\n",
        "    text = re.sub(r'[^\\x00-\\x7F]+', ' ',  text)\n",
        "    text = re.sub(r':', '', text)\n",
        "    text = emojipattern.sub(r'',  text)\n",
        "    text = re.sub(r'http\\S+', '', text)\n",
        "    for k in text.split(\"\\n\"):\n",
        "        text =re.sub(r\"[^a-zA-Z]+\", ' ', k)\n",
        "    # print(text)\n",
        "    words = word_tokenize(text.lower())\n",
        "    #print(words)\n",
        "    editedwords = []\n",
        "    ps = PorterStemmer()\n",
        "    stopWords= ['i', 'me', 'my', 'myself', 'we', 'our', 'ours', 'ourselves', 'you', \"you're\", \"you've\",\\\n",
        "            \"you'll\", \"you'd\", 'your', 'yours', 'yourself', 'yourselves', 'he', 'him', 'his', 'himself', \\\n",
        "            'she', \"she's\", 'her', 'hers', 'herself', 'it', \"it's\", 'its', 'itself', 'they', 'them', 'their',\\\n",
        "            'theirs', 'themselves', 'what', 'which', 'who', 'whom', 'this', 'that', \"that'll\", 'these', 'those', \\\n",
        "            'am', 'is', 'are', 'was', 'were', 'be', 'been', 'being', 'have', 'has', 'had', 'having', 'do', 'does', \\\n",
        "            'did', 'doing', 'a', 'an', 'the', 'and', 'but', 'if', 'or', 'because', 'as', 'until', 'while', 'of', \\\n",
        "            'at', 'by', 'for', 'with', 'about', 'against', 'between', 'into', 'through', 'during', 'before', 'after',\\\n",
        "            'above', 'below', 'to', 'from', 'up', 'down', 'in', 'out', 'on', 'off', 'over', 'under', 'again', 'further',\\\n",
        "            'then', 'once', 'here', 'there', 'when', 'where', 'why', 'how', 'all', 'any', 'both', 'each', 'few', 'more',\\\n",
        "            'most', 'other', 'some', 'such', 'only', 'own', 'same', 'so', 'than', 'too', 'very', \\\n",
        "            's', 't', 'can', 'will', 'just', 'don', \"don't\", 'should', \"should've\", 'now', 'd', 'll', 'm', 'o', 're', \\\n",
        "            've', 'y', 'ain', 'aren', \"aren't\", 'couldn', \"couldn't\", 'didn', \"didn't\", 'doesn', \"doesn't\", 'hadn',\\\n",
        "            \"hadn't\", 'hasn', \"hasn't\", 'haven', \"haven't\", 'isn', \"isn't\", 'ma', 'mightn', \"mightn't\", 'mustn',\\\n",
        "            \"mustn't\", 'needn', \"needn't\", 'shan', \"shan't\", 'shouldn', \"shouldn't\", 'wasn', \"wasn't\", 'weren', \"weren't\", \\\n",
        "            'won', \"won't\", 'wouldn', \"wouldn't\"]\n",
        "\n",
        "    \n",
        "    for word in words:\n",
        "        if word not in stopWords:\n",
        "            word = ps.stem(word)\n",
        "            editedwords.append(word)\n",
        "\n",
        "    # print(editedwords)\n",
        "    stringconverted = ' '.join(editedwords)\n",
        "    listadd = []\n",
        "    listadd.append(stringconverted)\n",
        "   # print(listadd)\n",
        "    sigmoid_clf = pickle.load( open( \"sig_clf.p\", \"rb\" ) )\n",
        "   # print(sigmoid_clf)\n",
        "    tfidf_fit_data = pickle.load( open( \"tfidf_fit_data.p\", \"rb\" ) )\n",
        "    \n",
        "  \n",
        "\n",
        "    Train_X1_tf = tfidf_fit_data.transform(listadd)\n",
        "    #print(Train_X1_tf.shape)\n",
        "\n",
        "   # count_vect = TfidfVectorizer(max_features=3000, min_df=10, decode_error='ignore', stop_words='english')\n",
        "    #Train_X_tf = count_vect.fit_transform(listadd)\n",
        "    #print(Train_X_tf.shape)\n",
        "    \n",
        "\n",
        "    predict_y = sigmoid_clf.predict_proba(Train_X1_tf)\n",
        "\n",
        "    predicted_y =np.argmax(predict_y,axis=1)\n",
        "    #print(\"Total number of data points :\", len(predicted_y))\n",
        "   # print(predicted_y)\n",
        "    if 1 in predicted_y:\n",
        "      print(text, '\\nThe above text is a toxic comment')\n",
        "    else:\n",
        "      print(text, '\\nThe above text is a non toxic comment')\n",
        "\n",
        "\n",
        "\n",
        "text = \"Abhi is  good\"\n",
        "clean_typed_data(text)\n"
      ],
      "execution_count": 34,
      "outputs": [
        {
          "output_type": "stream",
          "text": [
            "[nltk_data] Downloading package stopwords to /root/nltk_data...\n",
            "[nltk_data]   Package stopwords is already up-to-date!\n",
            "[nltk_data] Downloading package punkt to /root/nltk_data...\n",
            "[nltk_data]   Package punkt is already up-to-date!\n",
            "Abhi is good \n",
            "The above text is a non toxic comment\n"
          ],
          "name": "stdout"
        }
      ]
    },
    {
      "cell_type": "markdown",
      "metadata": {
        "id": "YKb_jipt5-2J",
        "colab_type": "text"
      },
      "source": [
        "# TFIDF with Random Forest"
      ]
    },
    {
      "cell_type": "code",
      "metadata": {
        "id": "GF5nPe1u5-2L",
        "colab_type": "code",
        "outputId": "622b38ea-1199-4e5d-e224-b21060fbb560",
        "colab": {}
      },
      "source": [
        "parameter = {\"n_estimators\":sp_randint(102,127),\n",
        "              \"max_depth\": sp_randint(8,18),\n",
        "              \"min_samples_split\": sp_randint(108,192),\n",
        "              \"min_samples_leaf\": sp_randint(23,67)}\n",
        "\n",
        "clf = RandomForestClassifier(random_state=26,n_jobs=-1)\n",
        "\n",
        "random_s = RandomizedSearchCV(clf, param_distributions=parameter,\n",
        "                                   n_iter=5,cv= 3,scoring='f1',random_state=26,return_train_score=True)\n",
        "a = random_s.fit(x_train2,y_train2)\n",
        "print(random_s.best_estimator_)"
      ],
      "execution_count": 0,
      "outputs": [
        {
          "output_type": "stream",
          "text": [
            "RandomForestClassifier(bootstrap=True, class_weight=None, criterion='gini',\n",
            "                       max_depth=16, max_features='auto', max_leaf_nodes=None,\n",
            "                       min_impurity_decrease=0.0, min_impurity_split=None,\n",
            "                       min_samples_leaf=44, min_samples_split=138,\n",
            "                       min_weight_fraction_leaf=0.0, n_estimators=117,\n",
            "                       n_jobs=-1, oob_score=False, random_state=26, verbose=0,\n",
            "                       warm_start=False)\n"
          ],
          "name": "stdout"
        }
      ]
    },
    {
      "cell_type": "code",
      "metadata": {
        "id": "TZVFwBzk5-2S",
        "colab_type": "code",
        "colab": {}
      },
      "source": [
        "clf = RandomForestClassifier(bootstrap=True, class_weight=None, criterion='gini',\n",
        "                       max_depth=16, max_features='auto', max_leaf_nodes=None,\n",
        "                       min_impurity_decrease=0.0, min_impurity_split=None,\n",
        "                       min_samples_leaf=44, min_samples_split=138,\n",
        "                       min_weight_fraction_leaf=0.0, n_estimators=117,\n",
        "                       n_jobs=-1, oob_score=False, random_state=26, verbose=0,\n",
        "                       warm_start=False)"
      ],
      "execution_count": 0,
      "outputs": []
    },
    {
      "cell_type": "code",
      "metadata": {
        "id": "khcKHTX45-2X",
        "colab_type": "code",
        "outputId": "74906d8f-bddd-47f1-b6c5-de1978ac206d",
        "colab": {}
      },
      "source": [
        "clf.fit(x_train2,y_train2)\n",
        "y_train_pred = clf.predict(x_train2)\n",
        "y_test_pred = clf.predict(X_test_ct_tfidf)\n",
        "\n",
        "plot_confusion_matrix( y_test,y_test_pred )"
      ],
      "execution_count": 0,
      "outputs": [
        {
          "output_type": "display_data",
          "data": {
            "image/png": "[encoded data removed]",
            "text/plain": [
              "<Figure size 1440x288 with 6 Axes>"
            ]
          },
          "metadata": {
            "tags": [],
            "needs_background": "light"
          }
        }
      ]
    },
    {
      "cell_type": "markdown",
      "metadata": {
        "id": "nriNQGrG5-2f",
        "colab_type": "text"
      },
      "source": [
        "# TFIDF with AdaBoost"
      ]
    },
    {
      "cell_type": "code",
      "metadata": {
        "id": "j-ZL2XCj5-2g",
        "colab_type": "code",
        "outputId": "9ec5179b-d62d-4c3e-e580-0448a05b11af",
        "colab": {}
      },
      "source": [
        "from sklearn.ensemble import AdaBoostRegressor\n",
        "from sklearn.model_selection import RandomizedSearchCV\n",
        "\n",
        "param = {\n",
        " 'n_estimators': [50, 60, 80, 100],\n",
        " 'learning_rate' : [0.01,0.05,0.1,0.3,1],\n",
        " 'loss' : ['linear', 'square', 'exponential']\n",
        " }\n",
        "\n",
        "pram_clf = RandomizedSearchCV(AdaBoostRegressor(),\n",
        " param_distributions = param,\n",
        " cv=3,\n",
        " n_iter = 10,\n",
        " n_jobs=-1)\n",
        "\n",
        "a = pram_clf.fit(x_train2,y_train2)\n",
        "print(pram_clf.best_estimator_)"
      ],
      "execution_count": 0,
      "outputs": [
        {
          "output_type": "stream",
          "text": [
            "AdaBoostRegressor(base_estimator=None, learning_rate=0.3, loss='square',\n",
            "                  n_estimators=60, random_state=None)\n"
          ],
          "name": "stdout"
        }
      ]
    },
    {
      "cell_type": "code",
      "metadata": {
        "id": "3xxde_w35-2i",
        "colab_type": "code",
        "colab": {}
      },
      "source": [
        "clf = AdaBoostRegressor(base_estimator=None, learning_rate=0.3, loss='square',\n",
        "                  n_estimators=60, random_state=None)"
      ],
      "execution_count": 0,
      "outputs": []
    },
    {
      "cell_type": "code",
      "metadata": {
        "id": "YbJmM5LD5-2l",
        "colab_type": "code",
        "outputId": "94e09c13-48c9-4619-ed23-7a2365028466",
        "colab": {}
      },
      "source": [
        "clf.fit(x_train2,y_train2)\n",
        "y_test_pred = clf.predict(X_test_ct_tfidf)\n",
        "predicted_y =np.array(y_test_pred>0.5,dtype=int)\n",
        "plot_confusion_matrix(y_test,predicted_y)\n"
      ],
      "execution_count": 0,
      "outputs": [
        {
          "output_type": "display_data",
          "data": {
            "image/png": "[encoded data removed]",
            "text/plain": [
              "<Figure size 1440x288 with 6 Axes>"
            ]
          },
          "metadata": {
            "tags": [],
            "needs_background": "light"
          }
        }
      ]
    },
    {
      "cell_type": "markdown",
      "metadata": {
        "id": "k6xfBX4n5-2t",
        "colab_type": "text"
      },
      "source": [
        "# Spacy"
      ]
    },
    {
      "cell_type": "code",
      "metadata": {
        "id": "XhE5aqmJ5-2u",
        "colab_type": "code",
        "colab": {}
      },
      "source": [
        "tfidf_s = dict(zip(tfidf_vec.get_feature_names(), tfidf_vec.idf_))"
      ],
      "execution_count": 0,
      "outputs": []
    },
    {
      "cell_type": "code",
      "metadata": {
        "id": "KUZLmg0Z5-20",
        "colab_type": "code",
        "outputId": "d2156df3-c884-4f4e-db8a-e444641f8161",
        "colab": {}
      },
      "source": [
        "# en_vectors_web_lg, which includes over 1 million unique vectors.\n",
        "nlp = spacy.load('en_core_web_sm')\n",
        "\n",
        "comment_text = []\n",
        "# https://github.com/noamraph/tqdm\n",
        "# tqdm is used to print the progress bar\n",
        "for qu1 in tqdm(list(X_train['comment_text'])):\n",
        "    doc1 = nlp(qu1) \n",
        "    # 384 is the number of dimensions of vectors \n",
        "    mean_vec1 = np.zeros([len(doc1), len(doc1[0].vector)])\n",
        "    for word1 in doc1:\n",
        "        # word2vec\n",
        "        vec1 = word1.vector\n",
        "        # fetch df score\n",
        "        try:\n",
        "            idf = tfidf_s[str(word1)]\n",
        "        except:\n",
        "            idf = 0\n",
        "        # compute final vec\n",
        "        mean_vec1 += vec1 * idf\n",
        "    mean_vec1 = mean_vec1.mean(axis=0)\n",
        "    comment_text.append(mean_vec1)\n",
        "print(len(comment_text))\n",
        "print(len(comment_text[0]))\n",
        "X_train['comment_text1'] = list(comment_text )"
      ],
      "execution_count": 0,
      "outputs": [
        {
          "output_type": "stream",
          "text": [
            "100%|█████████████████████████████████████████████████████████████████████████| 101948/101948 [15:39<00:00, 108.53it/s]\n"
          ],
          "name": "stderr"
        },
        {
          "output_type": "stream",
          "text": [
            "101948\n",
            "96\n"
          ],
          "name": "stdout"
        }
      ]
    },
    {
      "cell_type": "code",
      "metadata": {
        "id": "WToQdbUc5-27",
        "colab_type": "code",
        "colab": {}
      },
      "source": [
        "XY = pd.DataFrame(columns = ['comment_text'])\n",
        "XY['comment_text'] = list(comment_text)\n",
        "df_new = pd.DataFrame(XY.comment_text.values.tolist(), index= XY.index)"
      ],
      "execution_count": 0,
      "outputs": []
    },
    {
      "cell_type": "code",
      "metadata": {
        "id": "0x4QoU4M5-29",
        "colab_type": "code",
        "colab": {}
      },
      "source": [
        "from imblearn.over_sampling import SMOTE\n",
        "sm = SMOTE(random_state=12, ratio = 1.0)\n",
        "x_train2,y_train2 = sm.fit_sample(df_new , y_train)"
      ],
      "execution_count": 0,
      "outputs": []
    },
    {
      "cell_type": "code",
      "metadata": {
        "id": "VhpcAnjj5-2_",
        "colab_type": "code",
        "outputId": "7446ef3a-1007-4e5f-86da-d6a133588610",
        "colab": {}
      },
      "source": [
        "# en_vectors_web_lg, which includes over 1 million unique vectors.\n",
        "nlp = spacy.load('en_core_web_sm')\n",
        "\n",
        "comment_text = []\n",
        "# https://github.com/noamraph/tqdm\n",
        "# tqdm is used to print the progress bar\n",
        "for qu1 in tqdm(list(X_cv['comment_text'])):\n",
        "    doc1 = nlp(qu1) \n",
        "    # 384 is the number of dimensions of vectors \n",
        "    mean_vec1 = np.zeros([len(doc1), len(doc1[0].vector)])\n",
        "    for word1 in doc1:\n",
        "        # word2vec\n",
        "        vec1 = word1.vector\n",
        "        # fetch df score\n",
        "        try:\n",
        "            idf = tfidf_s[str(word1)]\n",
        "        except:\n",
        "            idf = 0\n",
        "        # compute final vec\n",
        "        mean_vec1 += vec1 * idf\n",
        "    mean_vec1 = mean_vec1.mean(axis=0)\n",
        "    comment_text.append(mean_vec1)\n",
        "print(len(comment_text))\n",
        "print(len(comment_text[0]))\n",
        "X_cv['comment_text1'] = list(comment_text )"
      ],
      "execution_count": 0,
      "outputs": [
        {
          "output_type": "stream",
          "text": [
            "100%|███████████████████████████████████████████████████████████████████████████| 25487/25487 [04:05<00:00, 103.64it/s]\n"
          ],
          "name": "stderr"
        },
        {
          "output_type": "stream",
          "text": [
            "25487\n",
            "96\n"
          ],
          "name": "stdout"
        }
      ]
    },
    {
      "cell_type": "code",
      "metadata": {
        "id": "7wbsep425-3B",
        "colab_type": "code",
        "colab": {}
      },
      "source": [
        "XY1 = pd.DataFrame(columns = ['comment_text'])\n",
        "XY1['comment_text'] = list(comment_text)\n",
        "df_cv_new = pd.DataFrame(XY1.comment_text.values.tolist(), index= XY1.index)"
      ],
      "execution_count": 0,
      "outputs": []
    },
    {
      "cell_type": "code",
      "metadata": {
        "id": "ZWKNjJy-5-3D",
        "colab_type": "code",
        "outputId": "730c2fd3-7092-4a8e-bdb8-c967d476d9ca",
        "colab": {}
      },
      "source": [
        "df_cv_new.head()"
      ],
      "execution_count": 0,
      "outputs": [
        {
          "output_type": "execute_result",
          "data": {
            "text/html": [
              "<div>\n",
              "<style scoped>\n",
              "    .dataframe tbody tr th:only-of-type {\n",
              "        vertical-align: middle;\n",
              "    }\n",
              "\n",
              "    .dataframe tbody tr th {\n",
              "        vertical-align: top;\n",
              "    }\n",
              "\n",
              "    .dataframe thead th {\n",
              "        text-align: right;\n",
              "    }\n",
              "</style>\n",
              "<table border=\"1\" class=\"dataframe\">\n",
              "  <thead>\n",
              "    <tr style=\"text-align: right;\">\n",
              "      <th></th>\n",
              "      <th>0</th>\n",
              "      <th>1</th>\n",
              "      <th>2</th>\n",
              "      <th>3</th>\n",
              "      <th>4</th>\n",
              "      <th>5</th>\n",
              "      <th>6</th>\n",
              "      <th>7</th>\n",
              "      <th>8</th>\n",
              "      <th>9</th>\n",
              "      <th>...</th>\n",
              "      <th>86</th>\n",
              "      <th>87</th>\n",
              "      <th>88</th>\n",
              "      <th>89</th>\n",
              "      <th>90</th>\n",
              "      <th>91</th>\n",
              "      <th>92</th>\n",
              "      <th>93</th>\n",
              "      <th>94</th>\n",
              "      <th>95</th>\n",
              "    </tr>\n",
              "  </thead>\n",
              "  <tbody>\n",
              "    <tr>\n",
              "      <th>0</th>\n",
              "      <td>-15.880058</td>\n",
              "      <td>-28.875363</td>\n",
              "      <td>-28.539435</td>\n",
              "      <td>-18.997203</td>\n",
              "      <td>-50.295868</td>\n",
              "      <td>30.314914</td>\n",
              "      <td>108.037868</td>\n",
              "      <td>9.411263</td>\n",
              "      <td>-38.629977</td>\n",
              "      <td>-33.107485</td>\n",
              "      <td>...</td>\n",
              "      <td>70.137579</td>\n",
              "      <td>-35.841293</td>\n",
              "      <td>53.856959</td>\n",
              "      <td>29.464661</td>\n",
              "      <td>31.210159</td>\n",
              "      <td>-29.391865</td>\n",
              "      <td>-6.367275</td>\n",
              "      <td>-16.126103</td>\n",
              "      <td>-53.142411</td>\n",
              "      <td>-15.193226</td>\n",
              "    </tr>\n",
              "    <tr>\n",
              "      <th>1</th>\n",
              "      <td>20.987837</td>\n",
              "      <td>-48.815492</td>\n",
              "      <td>-68.484496</td>\n",
              "      <td>-55.829596</td>\n",
              "      <td>-34.271734</td>\n",
              "      <td>15.821836</td>\n",
              "      <td>130.257971</td>\n",
              "      <td>-32.870680</td>\n",
              "      <td>22.385478</td>\n",
              "      <td>14.181403</td>\n",
              "      <td>...</td>\n",
              "      <td>44.734846</td>\n",
              "      <td>-12.417790</td>\n",
              "      <td>-18.430351</td>\n",
              "      <td>19.815446</td>\n",
              "      <td>5.507643</td>\n",
              "      <td>-46.593823</td>\n",
              "      <td>-28.828283</td>\n",
              "      <td>6.795004</td>\n",
              "      <td>-11.149944</td>\n",
              "      <td>-4.289075</td>\n",
              "    </tr>\n",
              "    <tr>\n",
              "      <th>2</th>\n",
              "      <td>-10.919195</td>\n",
              "      <td>-21.998960</td>\n",
              "      <td>-31.622413</td>\n",
              "      <td>-7.127448</td>\n",
              "      <td>-41.432863</td>\n",
              "      <td>41.768023</td>\n",
              "      <td>93.645132</td>\n",
              "      <td>2.948188</td>\n",
              "      <td>-10.649609</td>\n",
              "      <td>-7.569720</td>\n",
              "      <td>...</td>\n",
              "      <td>55.099672</td>\n",
              "      <td>7.210356</td>\n",
              "      <td>38.367812</td>\n",
              "      <td>-14.601727</td>\n",
              "      <td>-0.469636</td>\n",
              "      <td>-14.330968</td>\n",
              "      <td>-45.238995</td>\n",
              "      <td>-4.061300</td>\n",
              "      <td>-37.509213</td>\n",
              "      <td>-7.654617</td>\n",
              "    </tr>\n",
              "    <tr>\n",
              "      <th>3</th>\n",
              "      <td>46.186430</td>\n",
              "      <td>12.104392</td>\n",
              "      <td>-10.230745</td>\n",
              "      <td>-103.434955</td>\n",
              "      <td>-91.259350</td>\n",
              "      <td>28.002595</td>\n",
              "      <td>36.742390</td>\n",
              "      <td>28.352174</td>\n",
              "      <td>-55.230114</td>\n",
              "      <td>40.472649</td>\n",
              "      <td>...</td>\n",
              "      <td>72.435084</td>\n",
              "      <td>-46.473660</td>\n",
              "      <td>63.358983</td>\n",
              "      <td>60.119143</td>\n",
              "      <td>34.172865</td>\n",
              "      <td>29.769372</td>\n",
              "      <td>36.453627</td>\n",
              "      <td>-22.008026</td>\n",
              "      <td>-54.862925</td>\n",
              "      <td>84.500657</td>\n",
              "    </tr>\n",
              "    <tr>\n",
              "      <th>4</th>\n",
              "      <td>234.886171</td>\n",
              "      <td>-263.884090</td>\n",
              "      <td>-242.220473</td>\n",
              "      <td>-386.443973</td>\n",
              "      <td>-392.012327</td>\n",
              "      <td>64.881019</td>\n",
              "      <td>355.943549</td>\n",
              "      <td>16.826198</td>\n",
              "      <td>-42.664855</td>\n",
              "      <td>198.665311</td>\n",
              "      <td>...</td>\n",
              "      <td>110.673636</td>\n",
              "      <td>-233.763551</td>\n",
              "      <td>343.418528</td>\n",
              "      <td>57.288389</td>\n",
              "      <td>-79.305383</td>\n",
              "      <td>31.654795</td>\n",
              "      <td>-90.308409</td>\n",
              "      <td>-75.674219</td>\n",
              "      <td>-299.151292</td>\n",
              "      <td>173.059553</td>\n",
              "    </tr>\n",
              "  </tbody>\n",
              "</table>\n",
              "<p>5 rows × 96 columns</p>\n",
              "</div>"
            ],
            "text/plain": [
              "           0           1           2           3           4          5   \\\n",
              "0  -15.880058  -28.875363  -28.539435  -18.997203  -50.295868  30.314914   \n",
              "1   20.987837  -48.815492  -68.484496  -55.829596  -34.271734  15.821836   \n",
              "2  -10.919195  -21.998960  -31.622413   -7.127448  -41.432863  41.768023   \n",
              "3   46.186430   12.104392  -10.230745 -103.434955  -91.259350  28.002595   \n",
              "4  234.886171 -263.884090 -242.220473 -386.443973 -392.012327  64.881019   \n",
              "\n",
              "           6          7          8           9   ...          86          87  \\\n",
              "0  108.037868   9.411263 -38.629977  -33.107485  ...   70.137579  -35.841293   \n",
              "1  130.257971 -32.870680  22.385478   14.181403  ...   44.734846  -12.417790   \n",
              "2   93.645132   2.948188 -10.649609   -7.569720  ...   55.099672    7.210356   \n",
              "3   36.742390  28.352174 -55.230114   40.472649  ...   72.435084  -46.473660   \n",
              "4  355.943549  16.826198 -42.664855  198.665311  ...  110.673636 -233.763551   \n",
              "\n",
              "           88         89         90         91         92         93  \\\n",
              "0   53.856959  29.464661  31.210159 -29.391865  -6.367275 -16.126103   \n",
              "1  -18.430351  19.815446   5.507643 -46.593823 -28.828283   6.795004   \n",
              "2   38.367812 -14.601727  -0.469636 -14.330968 -45.238995  -4.061300   \n",
              "3   63.358983  60.119143  34.172865  29.769372  36.453627 -22.008026   \n",
              "4  343.418528  57.288389 -79.305383  31.654795 -90.308409 -75.674219   \n",
              "\n",
              "           94          95  \n",
              "0  -53.142411  -15.193226  \n",
              "1  -11.149944   -4.289075  \n",
              "2  -37.509213   -7.654617  \n",
              "3  -54.862925   84.500657  \n",
              "4 -299.151292  173.059553  \n",
              "\n",
              "[5 rows x 96 columns]"
            ]
          },
          "metadata": {
            "tags": []
          },
          "execution_count": 44
        }
      ]
    },
    {
      "cell_type": "code",
      "metadata": {
        "id": "cDGKw4is5-3F",
        "colab_type": "code",
        "outputId": "4e73397b-ce6b-4638-a1de-feaa3b8ace49",
        "colab": {}
      },
      "source": [
        "# en_vectors_web_lg, which includes over 1 million unique vectors.\n",
        "nlp = spacy.load('en_core_web_sm')\n",
        "\n",
        "comment_text = []\n",
        "# https://github.com/noamraph/tqdm\n",
        "# tqdm is used to print the progress bar\n",
        "for qu1 in tqdm(list(X_test['comment_text'])):\n",
        "    doc1 = nlp(qu1) \n",
        "    # 384 is the number of dimensions of vectors \n",
        "    mean_vec1 = np.zeros([len(doc1), len(doc1[0].vector)])\n",
        "    for word1 in doc1:\n",
        "        # word2vec\n",
        "        vec1 = word1.vector\n",
        "        # fetch df score\n",
        "        try:\n",
        "            idf = tfidf_s[str(word1)]\n",
        "        except:\n",
        "            idf = 0\n",
        "        # compute final vec\n",
        "        mean_vec1 += vec1 * idf\n",
        "    mean_vec1 = mean_vec1.mean(axis=0)\n",
        "    comment_text.append(mean_vec1)\n",
        "print(len(comment_text))\n",
        "print(len(comment_text[0]))\n",
        "X_test['comment_text1'] = list(comment_text )"
      ],
      "execution_count": 0,
      "outputs": [
        {
          "output_type": "stream",
          "text": [
            "100%|███████████████████████████████████████████████████████████████████████████| 31859/31859 [05:11<00:00, 102.33it/s]\n"
          ],
          "name": "stderr"
        },
        {
          "output_type": "stream",
          "text": [
            "31859\n",
            "96\n"
          ],
          "name": "stdout"
        }
      ]
    },
    {
      "cell_type": "code",
      "metadata": {
        "id": "woOkqHoT5-3H",
        "colab_type": "code",
        "outputId": "bb2a4331-8f66-4a88-c5fd-9a4d1efe9ab5",
        "colab": {}
      },
      "source": [
        "XY2 = pd.DataFrame(columns = ['comment_text'])\n",
        "XY2['comment_text'] = list(comment_text)\n",
        "df_test_new = pd.DataFrame(XY2.comment_text.values.tolist(), index= XY2.index)\n",
        "df_test_new.head()"
      ],
      "execution_count": 0,
      "outputs": [
        {
          "output_type": "execute_result",
          "data": {
            "text/html": [
              "<div>\n",
              "<style scoped>\n",
              "    .dataframe tbody tr th:only-of-type {\n",
              "        vertical-align: middle;\n",
              "    }\n",
              "\n",
              "    .dataframe tbody tr th {\n",
              "        vertical-align: top;\n",
              "    }\n",
              "\n",
              "    .dataframe thead th {\n",
              "        text-align: right;\n",
              "    }\n",
              "</style>\n",
              "<table border=\"1\" class=\"dataframe\">\n",
              "  <thead>\n",
              "    <tr style=\"text-align: right;\">\n",
              "      <th></th>\n",
              "      <th>0</th>\n",
              "      <th>1</th>\n",
              "      <th>2</th>\n",
              "      <th>3</th>\n",
              "      <th>4</th>\n",
              "      <th>5</th>\n",
              "      <th>6</th>\n",
              "      <th>7</th>\n",
              "      <th>8</th>\n",
              "      <th>9</th>\n",
              "      <th>...</th>\n",
              "      <th>86</th>\n",
              "      <th>87</th>\n",
              "      <th>88</th>\n",
              "      <th>89</th>\n",
              "      <th>90</th>\n",
              "      <th>91</th>\n",
              "      <th>92</th>\n",
              "      <th>93</th>\n",
              "      <th>94</th>\n",
              "      <th>95</th>\n",
              "    </tr>\n",
              "  </thead>\n",
              "  <tbody>\n",
              "    <tr>\n",
              "      <th>0</th>\n",
              "      <td>336.196593</td>\n",
              "      <td>-247.058614</td>\n",
              "      <td>-205.415365</td>\n",
              "      <td>-428.874841</td>\n",
              "      <td>-108.165971</td>\n",
              "      <td>338.023076</td>\n",
              "      <td>812.469389</td>\n",
              "      <td>69.059050</td>\n",
              "      <td>-100.816280</td>\n",
              "      <td>188.709439</td>\n",
              "      <td>...</td>\n",
              "      <td>264.991146</td>\n",
              "      <td>-132.223005</td>\n",
              "      <td>568.902921</td>\n",
              "      <td>-195.593384</td>\n",
              "      <td>-149.354198</td>\n",
              "      <td>-53.136377</td>\n",
              "      <td>-176.626199</td>\n",
              "      <td>-252.299998</td>\n",
              "      <td>-331.444394</td>\n",
              "      <td>208.074842</td>\n",
              "    </tr>\n",
              "    <tr>\n",
              "      <th>1</th>\n",
              "      <td>11.854789</td>\n",
              "      <td>-6.399877</td>\n",
              "      <td>-50.214412</td>\n",
              "      <td>-62.003194</td>\n",
              "      <td>-49.833511</td>\n",
              "      <td>40.150415</td>\n",
              "      <td>60.333623</td>\n",
              "      <td>-5.859304</td>\n",
              "      <td>-21.188183</td>\n",
              "      <td>30.814601</td>\n",
              "      <td>...</td>\n",
              "      <td>34.119025</td>\n",
              "      <td>-31.757971</td>\n",
              "      <td>56.002636</td>\n",
              "      <td>42.178877</td>\n",
              "      <td>2.369319</td>\n",
              "      <td>-3.983353</td>\n",
              "      <td>-11.022219</td>\n",
              "      <td>-16.504632</td>\n",
              "      <td>-7.638861</td>\n",
              "      <td>-45.516783</td>\n",
              "    </tr>\n",
              "    <tr>\n",
              "      <th>2</th>\n",
              "      <td>68.996689</td>\n",
              "      <td>-246.114313</td>\n",
              "      <td>-129.354172</td>\n",
              "      <td>-192.767919</td>\n",
              "      <td>-264.727661</td>\n",
              "      <td>96.159021</td>\n",
              "      <td>515.212160</td>\n",
              "      <td>-119.080135</td>\n",
              "      <td>-73.254229</td>\n",
              "      <td>92.406453</td>\n",
              "      <td>...</td>\n",
              "      <td>244.428128</td>\n",
              "      <td>-127.391637</td>\n",
              "      <td>184.594063</td>\n",
              "      <td>3.717136</td>\n",
              "      <td>23.064505</td>\n",
              "      <td>-54.904811</td>\n",
              "      <td>-137.544082</td>\n",
              "      <td>-82.309295</td>\n",
              "      <td>-205.536162</td>\n",
              "      <td>92.080614</td>\n",
              "    </tr>\n",
              "    <tr>\n",
              "      <th>3</th>\n",
              "      <td>120.580571</td>\n",
              "      <td>-118.850427</td>\n",
              "      <td>-37.867939</td>\n",
              "      <td>-254.817891</td>\n",
              "      <td>-311.186484</td>\n",
              "      <td>141.158035</td>\n",
              "      <td>229.901842</td>\n",
              "      <td>11.686581</td>\n",
              "      <td>11.727975</td>\n",
              "      <td>121.075016</td>\n",
              "      <td>...</td>\n",
              "      <td>161.738921</td>\n",
              "      <td>-99.892461</td>\n",
              "      <td>278.912667</td>\n",
              "      <td>86.688286</td>\n",
              "      <td>70.500061</td>\n",
              "      <td>-107.594312</td>\n",
              "      <td>-58.492397</td>\n",
              "      <td>-77.820313</td>\n",
              "      <td>-125.703847</td>\n",
              "      <td>113.565953</td>\n",
              "    </tr>\n",
              "    <tr>\n",
              "      <th>4</th>\n",
              "      <td>379.626118</td>\n",
              "      <td>-366.722827</td>\n",
              "      <td>-308.679065</td>\n",
              "      <td>-375.708530</td>\n",
              "      <td>-266.510203</td>\n",
              "      <td>112.445150</td>\n",
              "      <td>1025.612919</td>\n",
              "      <td>-91.870975</td>\n",
              "      <td>-180.096706</td>\n",
              "      <td>120.921388</td>\n",
              "      <td>...</td>\n",
              "      <td>297.363468</td>\n",
              "      <td>-89.278449</td>\n",
              "      <td>618.436780</td>\n",
              "      <td>-29.311899</td>\n",
              "      <td>-128.531336</td>\n",
              "      <td>25.505840</td>\n",
              "      <td>-268.467547</td>\n",
              "      <td>-128.389699</td>\n",
              "      <td>-468.408734</td>\n",
              "      <td>211.374082</td>\n",
              "    </tr>\n",
              "  </tbody>\n",
              "</table>\n",
              "<p>5 rows × 96 columns</p>\n",
              "</div>"
            ],
            "text/plain": [
              "           0           1           2           3           4           5   \\\n",
              "0  336.196593 -247.058614 -205.415365 -428.874841 -108.165971  338.023076   \n",
              "1   11.854789   -6.399877  -50.214412  -62.003194  -49.833511   40.150415   \n",
              "2   68.996689 -246.114313 -129.354172 -192.767919 -264.727661   96.159021   \n",
              "3  120.580571 -118.850427  -37.867939 -254.817891 -311.186484  141.158035   \n",
              "4  379.626118 -366.722827 -308.679065 -375.708530 -266.510203  112.445150   \n",
              "\n",
              "            6           7           8           9   ...          86  \\\n",
              "0   812.469389   69.059050 -100.816280  188.709439  ...  264.991146   \n",
              "1    60.333623   -5.859304  -21.188183   30.814601  ...   34.119025   \n",
              "2   515.212160 -119.080135  -73.254229   92.406453  ...  244.428128   \n",
              "3   229.901842   11.686581   11.727975  121.075016  ...  161.738921   \n",
              "4  1025.612919  -91.870975 -180.096706  120.921388  ...  297.363468   \n",
              "\n",
              "           87          88          89          90          91          92  \\\n",
              "0 -132.223005  568.902921 -195.593384 -149.354198  -53.136377 -176.626199   \n",
              "1  -31.757971   56.002636   42.178877    2.369319   -3.983353  -11.022219   \n",
              "2 -127.391637  184.594063    3.717136   23.064505  -54.904811 -137.544082   \n",
              "3  -99.892461  278.912667   86.688286   70.500061 -107.594312  -58.492397   \n",
              "4  -89.278449  618.436780  -29.311899 -128.531336   25.505840 -268.467547   \n",
              "\n",
              "           93          94          95  \n",
              "0 -252.299998 -331.444394  208.074842  \n",
              "1  -16.504632   -7.638861  -45.516783  \n",
              "2  -82.309295 -205.536162   92.080614  \n",
              "3  -77.820313 -125.703847  113.565953  \n",
              "4 -128.389699 -468.408734  211.374082  \n",
              "\n",
              "[5 rows x 96 columns]"
            ]
          },
          "metadata": {
            "tags": []
          },
          "execution_count": 47
        }
      ]
    },
    {
      "cell_type": "markdown",
      "metadata": {
        "id": "9lV5FN6s5-3M",
        "colab_type": "text"
      },
      "source": [
        "# Spacy with Support Vector Machine"
      ]
    },
    {
      "cell_type": "code",
      "metadata": {
        "id": "eRhr23Al5-3N",
        "colab_type": "code",
        "outputId": "9c5dbd27-42c2-4378-9534-a44af03d0ae7",
        "colab": {}
      },
      "source": [
        "# hyperparam for SGD classifier.\n",
        "\n",
        "#  http://scikit-learn.org/stable/modules/generated/sklearn.linear_model.SGDClassifier.html\n",
        "# ------------------------------\n",
        "# default parameters\n",
        "# SGDClassifier(loss=’hinge’, penalty=’l2’, alpha=0.0001, l1_ratio=0.15, fit_intercept=True, max_iter=None, tol=None, \n",
        "# shuffle=True, verbose=0, epsilon=0.1, n_jobs=1, random_state=None, learning_rate=’optimal’, eta0=0.0, power_t=0.5, \n",
        "# class_weight=None, warm_start=False, average=False, n_iter=None)\n",
        "\n",
        "# some of methods\n",
        "# fit(X, y[, coef_init, intercept_init, …])\tFit linear model with Stochastic Gradient Descent.\n",
        "# predict(X)\tPredict class labels for samples in X.\n",
        "\n",
        "#-------------------------------\n",
        "# video link: \n",
        "#------------------------------\n",
        "\n",
        "def svm(a,b,c,d) :\n",
        "    alpha = [10 ** x for x in range(-5, 2)] \n",
        "    error_list=[]\n",
        "    for i in alpha:\n",
        "        clf = SGDClassifier(alpha=i, penalty='l2', loss='hinge', random_state=42)\n",
        "        clf.fit(a,b)\n",
        "        sig_clf = CalibratedClassifierCV(clf, method=\"sigmoid\")\n",
        "        sig_clf.fit(a,b)\n",
        "        predict_y = sig_clf.predict_proba(c)\n",
        "        error_list.append(log_loss(d, predict_y, labels=clf.classes_, eps=1e-15))\n",
        "        print('For values of alpha = ', i, \"The log loss is:\",log_loss(y_cv, predict_y, labels=clf.classes_, eps=1e-15))\n",
        "\n",
        "\n",
        "error_list1 = svm(x_train2, y_train2,df_cv_new,y_cv)\n",
        "\n",
        "best_alpha = np.argmin(error_list1)\n",
        "clf = SGDClassifier(alpha=alpha[best_alpha], penalty='l2', loss='hinge', random_state=42)\n",
        "clf.fit(x_train2, y_train2)\n",
        "sig_clf = CalibratedClassifierCV(clf, method=\"sigmoid\")\n",
        "sig_clf.fit(x_train2, y_train2)\n",
        "\n",
        "\n",
        "\n",
        "predict_y = sig_clf.predict_proba(df_test_new)\n",
        "print('For values of best alpha = ', alpha[best_alpha], \"The test log loss is:\",log_loss(y_test, predict_y, labels=clf.classes_, eps=1e-15))\n",
        "predicted_y =np.argmax(predict_y,axis=1)\n",
        "print(\"Total number of data points :\", len(predicted_y))\n",
        "plot_confusion_matrix(y_test, predicted_y)"
      ],
      "execution_count": 0,
      "outputs": [
        {
          "output_type": "stream",
          "text": [
            "For values of alpha =  1e-05 The log loss is: 0.6931471805599452\n",
            "For values of alpha =  0.0001 The log loss is: 0.6931471805599452\n",
            "For values of alpha =  0.001 The log loss is: 0.6931471805599452\n",
            "For values of alpha =  0.01 The log loss is: 0.6926792686132575\n",
            "For values of alpha =  0.1 The log loss is: 0.676210265969315\n",
            "For values of alpha =  1 The log loss is: 0.6768166349536067\n",
            "For values of alpha =  10 The log loss is: 0.6658229591036571\n",
            "For values of best alpha =  1e-05 The test log loss is: 0.6931471805599452\n",
            "Total number of data points : 31859\n"
          ],
          "name": "stdout"
        },
        {
          "output_type": "display_data",
          "data": {
            "image/png": "[encoded data removed]",
            "text/plain": [
              "<Figure size 1440x288 with 6 Axes>"
            ]
          },
          "metadata": {
            "tags": [],
            "needs_background": "light"
          }
        }
      ]
    }
  ]
}